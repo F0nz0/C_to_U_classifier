{
 "cells": [
  {
   "cell_type": "markdown",
   "id": "411d0403",
   "metadata": {},
   "source": [
    "## Create test bam files for testing CtoUclassifier package"
   ]
  },
  {
   "cell_type": "code",
   "execution_count": 1,
   "id": "7b596ca3",
   "metadata": {},
   "outputs": [],
   "source": [
    "import pandas as pd"
   ]
  },
  {
   "cell_type": "code",
   "execution_count": 2,
   "id": "e3ba20e2",
   "metadata": {},
   "outputs": [
    {
     "data": {
      "text/html": [
       "<div>\n",
       "<style scoped>\n",
       "    .dataframe tbody tr th:only-of-type {\n",
       "        vertical-align: middle;\n",
       "    }\n",
       "\n",
       "    .dataframe tbody tr th {\n",
       "        vertical-align: top;\n",
       "    }\n",
       "\n",
       "    .dataframe thead th {\n",
       "        text-align: right;\n",
       "    }\n",
       "</style>\n",
       "<table border=\"1\" class=\"dataframe\">\n",
       "  <thead>\n",
       "    <tr style=\"text-align: right;\">\n",
       "      <th></th>\n",
       "      <th>region</th>\n",
       "      <th>position</th>\n",
       "      <th>strand</th>\n",
       "      <th>T_native_oxp1</th>\n",
       "      <th>T_corrected_oxp1</th>\n",
       "      <th>depth_stranded_oxp1</th>\n",
       "      <th>Tfreq_native_oxp1</th>\n",
       "      <th>Tfreq_corrected_oxp1</th>\n",
       "      <th>T_native_oxp2</th>\n",
       "      <th>T_corrected_oxp2</th>\n",
       "      <th>...</th>\n",
       "      <th>Tfreq_corrected_oxp4</th>\n",
       "      <th>5mer</th>\n",
       "      <th>Ref</th>\n",
       "      <th>Alt</th>\n",
       "      <th>Func.refGene</th>\n",
       "      <th>Gene.refGene</th>\n",
       "      <th>GeneDetail.refGene</th>\n",
       "      <th>ExonicFunc.refGene</th>\n",
       "      <th>AAChange.refGene</th>\n",
       "      <th>apobec1_pvalue</th>\n",
       "    </tr>\n",
       "  </thead>\n",
       "  <tbody>\n",
       "    <tr>\n",
       "      <th>0</th>\n",
       "      <td>chr1</td>\n",
       "      <td>6186681</td>\n",
       "      <td>-</td>\n",
       "      <td>67.0</td>\n",
       "      <td>20.0</td>\n",
       "      <td>559.0</td>\n",
       "      <td>0.119857</td>\n",
       "      <td>0.035778</td>\n",
       "      <td>NaN</td>\n",
       "      <td>NaN</td>\n",
       "      <td>...</td>\n",
       "      <td>0.013636</td>\n",
       "      <td>GACGA</td>\n",
       "      <td>G</td>\n",
       "      <td>A</td>\n",
       "      <td>exonic</td>\n",
       "      <td>RPL22</td>\n",
       "      <td>.</td>\n",
       "      <td>synonymous SNV</td>\n",
       "      <td>RPL22:NM_000983:exon4:c.C378T:p.D126D</td>\n",
       "      <td>0.032340</td>\n",
       "    </tr>\n",
       "    <tr>\n",
       "      <th>1</th>\n",
       "      <td>chr1</td>\n",
       "      <td>6186699</td>\n",
       "      <td>-</td>\n",
       "      <td>71.0</td>\n",
       "      <td>12.0</td>\n",
       "      <td>556.0</td>\n",
       "      <td>0.127698</td>\n",
       "      <td>0.021583</td>\n",
       "      <td>NaN</td>\n",
       "      <td>NaN</td>\n",
       "      <td>...</td>\n",
       "      <td>0.013636</td>\n",
       "      <td>GACGA</td>\n",
       "      <td>G</td>\n",
       "      <td>A</td>\n",
       "      <td>exonic</td>\n",
       "      <td>RPL22</td>\n",
       "      <td>.</td>\n",
       "      <td>synonymous SNV</td>\n",
       "      <td>RPL22:NM_000983:exon4:c.C360T:p.D120D</td>\n",
       "      <td>1.000000</td>\n",
       "    </tr>\n",
       "    <tr>\n",
       "      <th>2</th>\n",
       "      <td>chr1</td>\n",
       "      <td>17018869</td>\n",
       "      <td>-</td>\n",
       "      <td>34.0</td>\n",
       "      <td>12.0</td>\n",
       "      <td>94.0</td>\n",
       "      <td>0.361702</td>\n",
       "      <td>0.127660</td>\n",
       "      <td>17.0</td>\n",
       "      <td>6.0</td>\n",
       "      <td>...</td>\n",
       "      <td>NaN</td>\n",
       "      <td>TGCTA</td>\n",
       "      <td>G</td>\n",
       "      <td>A</td>\n",
       "      <td>UTR3</td>\n",
       "      <td>SDHB</td>\n",
       "      <td>NM_003000:c.*12C&gt;T</td>\n",
       "      <td>.</td>\n",
       "      <td>.</td>\n",
       "      <td>0.041016</td>\n",
       "    </tr>\n",
       "    <tr>\n",
       "      <th>3</th>\n",
       "      <td>chr1</td>\n",
       "      <td>25900600</td>\n",
       "      <td>-</td>\n",
       "      <td>10.0</td>\n",
       "      <td>2.0</td>\n",
       "      <td>187.0</td>\n",
       "      <td>0.053476</td>\n",
       "      <td>0.010695</td>\n",
       "      <td>6.0</td>\n",
       "      <td>3.0</td>\n",
       "      <td>...</td>\n",
       "      <td>NaN</td>\n",
       "      <td>GACTT</td>\n",
       "      <td>G</td>\n",
       "      <td>A</td>\n",
       "      <td>UTR3</td>\n",
       "      <td>STMN1</td>\n",
       "      <td>NM_203401:c.*416C&gt;T;NM_005563:c.*416C&gt;T;NM_203...</td>\n",
       "      <td>.</td>\n",
       "      <td>.</td>\n",
       "      <td>1.000000</td>\n",
       "    </tr>\n",
       "    <tr>\n",
       "      <th>4</th>\n",
       "      <td>chr1</td>\n",
       "      <td>25900608</td>\n",
       "      <td>-</td>\n",
       "      <td>33.0</td>\n",
       "      <td>3.0</td>\n",
       "      <td>187.0</td>\n",
       "      <td>0.176471</td>\n",
       "      <td>0.016043</td>\n",
       "      <td>25.0</td>\n",
       "      <td>3.0</td>\n",
       "      <td>...</td>\n",
       "      <td>NaN</td>\n",
       "      <td>TGCTA</td>\n",
       "      <td>G</td>\n",
       "      <td>A</td>\n",
       "      <td>UTR3</td>\n",
       "      <td>STMN1</td>\n",
       "      <td>NM_203401:c.*408C&gt;T;NM_005563:c.*408C&gt;T;NM_203...</td>\n",
       "      <td>.</td>\n",
       "      <td>.</td>\n",
       "      <td>0.012769</td>\n",
       "    </tr>\n",
       "    <tr>\n",
       "      <th>...</th>\n",
       "      <td>...</td>\n",
       "      <td>...</td>\n",
       "      <td>...</td>\n",
       "      <td>...</td>\n",
       "      <td>...</td>\n",
       "      <td>...</td>\n",
       "      <td>...</td>\n",
       "      <td>...</td>\n",
       "      <td>...</td>\n",
       "      <td>...</td>\n",
       "      <td>...</td>\n",
       "      <td>...</td>\n",
       "      <td>...</td>\n",
       "      <td>...</td>\n",
       "      <td>...</td>\n",
       "      <td>...</td>\n",
       "      <td>...</td>\n",
       "      <td>...</td>\n",
       "      <td>...</td>\n",
       "      <td>...</td>\n",
       "      <td>...</td>\n",
       "    </tr>\n",
       "    <tr>\n",
       "      <th>291</th>\n",
       "      <td>chr12</td>\n",
       "      <td>21644102</td>\n",
       "      <td>-</td>\n",
       "      <td>NaN</td>\n",
       "      <td>NaN</td>\n",
       "      <td>NaN</td>\n",
       "      <td>NaN</td>\n",
       "      <td>NaN</td>\n",
       "      <td>NaN</td>\n",
       "      <td>NaN</td>\n",
       "      <td>...</td>\n",
       "      <td>0.014388</td>\n",
       "      <td>TTCTG</td>\n",
       "      <td>G</td>\n",
       "      <td>A</td>\n",
       "      <td>exonic</td>\n",
       "      <td>LDHB</td>\n",
       "      <td>.</td>\n",
       "      <td>nonsynonymous SNV</td>\n",
       "      <td>LDHB:NM_001174097:exon4:c.C254T:p.S85F,LDHB:NM...</td>\n",
       "      <td>0.076268</td>\n",
       "    </tr>\n",
       "    <tr>\n",
       "      <th>292</th>\n",
       "      <td>chr12</td>\n",
       "      <td>54282272</td>\n",
       "      <td>+</td>\n",
       "      <td>NaN</td>\n",
       "      <td>NaN</td>\n",
       "      <td>NaN</td>\n",
       "      <td>NaN</td>\n",
       "      <td>NaN</td>\n",
       "      <td>NaN</td>\n",
       "      <td>NaN</td>\n",
       "      <td>...</td>\n",
       "      <td>0.013423</td>\n",
       "      <td>GACGA</td>\n",
       "      <td>C</td>\n",
       "      <td>T</td>\n",
       "      <td>exonic</td>\n",
       "      <td>HNRNPA1</td>\n",
       "      <td>.</td>\n",
       "      <td>synonymous SNV</td>\n",
       "      <td>HNRNPA1:NM_002136:exon4:c.C462T:p.D154D,HNRNPA...</td>\n",
       "      <td>1.000000</td>\n",
       "    </tr>\n",
       "    <tr>\n",
       "      <th>293</th>\n",
       "      <td>chr12</td>\n",
       "      <td>112405999</td>\n",
       "      <td>-</td>\n",
       "      <td>NaN</td>\n",
       "      <td>NaN</td>\n",
       "      <td>NaN</td>\n",
       "      <td>NaN</td>\n",
       "      <td>NaN</td>\n",
       "      <td>NaN</td>\n",
       "      <td>NaN</td>\n",
       "      <td>...</td>\n",
       "      <td>0.012626</td>\n",
       "      <td>CACAC</td>\n",
       "      <td>G</td>\n",
       "      <td>A</td>\n",
       "      <td>exonic</td>\n",
       "      <td>RPL6</td>\n",
       "      <td>.</td>\n",
       "      <td>nonsynonymous SNV</td>\n",
       "      <td>RPL6:NM_000970:exon6:c.C568T:p.H190Y,RPL6:NM_0...</td>\n",
       "      <td>0.047116</td>\n",
       "    </tr>\n",
       "    <tr>\n",
       "      <th>294</th>\n",
       "      <td>chr17</td>\n",
       "      <td>8377549</td>\n",
       "      <td>-</td>\n",
       "      <td>NaN</td>\n",
       "      <td>NaN</td>\n",
       "      <td>NaN</td>\n",
       "      <td>NaN</td>\n",
       "      <td>NaN</td>\n",
       "      <td>NaN</td>\n",
       "      <td>NaN</td>\n",
       "      <td>...</td>\n",
       "      <td>0.011547</td>\n",
       "      <td>TACAA</td>\n",
       "      <td>G</td>\n",
       "      <td>A</td>\n",
       "      <td>UTR3</td>\n",
       "      <td>RPL26</td>\n",
       "      <td>NM_000987:c.*15C&gt;T;NM_001315530:c.*15C&gt;T;NM_00...</td>\n",
       "      <td>.</td>\n",
       "      <td>.</td>\n",
       "      <td>0.000121</td>\n",
       "    </tr>\n",
       "    <tr>\n",
       "      <th>295</th>\n",
       "      <td>chr17</td>\n",
       "      <td>39204567</td>\n",
       "      <td>+</td>\n",
       "      <td>NaN</td>\n",
       "      <td>NaN</td>\n",
       "      <td>NaN</td>\n",
       "      <td>NaN</td>\n",
       "      <td>NaN</td>\n",
       "      <td>NaN</td>\n",
       "      <td>NaN</td>\n",
       "      <td>...</td>\n",
       "      <td>0.018519</td>\n",
       "      <td>CGCAA</td>\n",
       "      <td>C</td>\n",
       "      <td>T</td>\n",
       "      <td>exonic</td>\n",
       "      <td>RPL19</td>\n",
       "      <td>.</td>\n",
       "      <td>synonymous SNV</td>\n",
       "      <td>RPL19:NM_000981:exon6:c.C510T:p.R170R,RPL19:NM...</td>\n",
       "      <td>1.000000</td>\n",
       "    </tr>\n",
       "  </tbody>\n",
       "</table>\n",
       "<p>296 rows × 32 columns</p>\n",
       "</div>"
      ],
      "text/plain": [
       "    region   position strand  T_native_oxp1  T_corrected_oxp1  \\\n",
       "0     chr1    6186681      -           67.0              20.0   \n",
       "1     chr1    6186699      -           71.0              12.0   \n",
       "2     chr1   17018869      -           34.0              12.0   \n",
       "3     chr1   25900600      -           10.0               2.0   \n",
       "4     chr1   25900608      -           33.0               3.0   \n",
       "..     ...        ...    ...            ...               ...   \n",
       "291  chr12   21644102      -            NaN               NaN   \n",
       "292  chr12   54282272      +            NaN               NaN   \n",
       "293  chr12  112405999      -            NaN               NaN   \n",
       "294  chr17    8377549      -            NaN               NaN   \n",
       "295  chr17   39204567      +            NaN               NaN   \n",
       "\n",
       "     depth_stranded_oxp1  Tfreq_native_oxp1  Tfreq_corrected_oxp1  \\\n",
       "0                  559.0           0.119857              0.035778   \n",
       "1                  556.0           0.127698              0.021583   \n",
       "2                   94.0           0.361702              0.127660   \n",
       "3                  187.0           0.053476              0.010695   \n",
       "4                  187.0           0.176471              0.016043   \n",
       "..                   ...                ...                   ...   \n",
       "291                  NaN                NaN                   NaN   \n",
       "292                  NaN                NaN                   NaN   \n",
       "293                  NaN                NaN                   NaN   \n",
       "294                  NaN                NaN                   NaN   \n",
       "295                  NaN                NaN                   NaN   \n",
       "\n",
       "     T_native_oxp2  T_corrected_oxp2  ...  Tfreq_corrected_oxp4   5mer  Ref  \\\n",
       "0              NaN               NaN  ...              0.013636  GACGA    G   \n",
       "1              NaN               NaN  ...              0.013636  GACGA    G   \n",
       "2             17.0               6.0  ...                   NaN  TGCTA    G   \n",
       "3              6.0               3.0  ...                   NaN  GACTT    G   \n",
       "4             25.0               3.0  ...                   NaN  TGCTA    G   \n",
       "..             ...               ...  ...                   ...    ...  ...   \n",
       "291            NaN               NaN  ...              0.014388  TTCTG    G   \n",
       "292            NaN               NaN  ...              0.013423  GACGA    C   \n",
       "293            NaN               NaN  ...              0.012626  CACAC    G   \n",
       "294            NaN               NaN  ...              0.011547  TACAA    G   \n",
       "295            NaN               NaN  ...              0.018519  CGCAA    C   \n",
       "\n",
       "     Alt  Func.refGene  Gene.refGene  \\\n",
       "0      A        exonic         RPL22   \n",
       "1      A        exonic         RPL22   \n",
       "2      A          UTR3          SDHB   \n",
       "3      A          UTR3         STMN1   \n",
       "4      A          UTR3         STMN1   \n",
       "..   ...           ...           ...   \n",
       "291    A        exonic          LDHB   \n",
       "292    T        exonic       HNRNPA1   \n",
       "293    A        exonic          RPL6   \n",
       "294    A          UTR3         RPL26   \n",
       "295    T        exonic         RPL19   \n",
       "\n",
       "                                    GeneDetail.refGene  ExonicFunc.refGene  \\\n",
       "0                                                    .      synonymous SNV   \n",
       "1                                                    .      synonymous SNV   \n",
       "2                                   NM_003000:c.*12C>T                   .   \n",
       "3    NM_203401:c.*416C>T;NM_005563:c.*416C>T;NM_203...                   .   \n",
       "4    NM_203401:c.*408C>T;NM_005563:c.*408C>T;NM_203...                   .   \n",
       "..                                                 ...                 ...   \n",
       "291                                                  .   nonsynonymous SNV   \n",
       "292                                                  .      synonymous SNV   \n",
       "293                                                  .   nonsynonymous SNV   \n",
       "294  NM_000987:c.*15C>T;NM_001315530:c.*15C>T;NM_00...                   .   \n",
       "295                                                  .      synonymous SNV   \n",
       "\n",
       "                                      AAChange.refGene  apobec1_pvalue  \n",
       "0                RPL22:NM_000983:exon4:c.C378T:p.D126D        0.032340  \n",
       "1                RPL22:NM_000983:exon4:c.C360T:p.D120D        1.000000  \n",
       "2                                                    .        0.041016  \n",
       "3                                                    .        1.000000  \n",
       "4                                                    .        0.012769  \n",
       "..                                                 ...             ...  \n",
       "291  LDHB:NM_001174097:exon4:c.C254T:p.S85F,LDHB:NM...        0.076268  \n",
       "292  HNRNPA1:NM_002136:exon4:c.C462T:p.D154D,HNRNPA...        1.000000  \n",
       "293  RPL6:NM_000970:exon6:c.C568T:p.H190Y,RPL6:NM_0...        0.047116  \n",
       "294                                                  .        0.000121  \n",
       "295  RPL19:NM_000981:exon6:c.C510T:p.R170R,RPL19:NM...        1.000000  \n",
       "\n",
       "[296 rows x 32 columns]"
      ]
     },
     "execution_count": 2,
     "metadata": {},
     "output_type": "execute_result"
    }
   ],
   "source": [
    "# load reliable sites\n",
    "reliable_human = pd.read_table(\"reliable_ed_pos_human_data_apobec1signature.tsv\", index_col=0)\n",
    "reliable_human"
   ]
  },
  {
   "cell_type": "code",
   "execution_count": 3,
   "id": "5727ef18",
   "metadata": {},
   "outputs": [
    {
     "data": {
      "text/html": [
       "<div>\n",
       "<style scoped>\n",
       "    .dataframe tbody tr th:only-of-type {\n",
       "        vertical-align: middle;\n",
       "    }\n",
       "\n",
       "    .dataframe tbody tr th {\n",
       "        vertical-align: top;\n",
       "    }\n",
       "\n",
       "    .dataframe thead th {\n",
       "        text-align: right;\n",
       "    }\n",
       "</style>\n",
       "<table border=\"1\" class=\"dataframe\">\n",
       "  <thead>\n",
       "    <tr style=\"text-align: right;\">\n",
       "      <th></th>\n",
       "      <th>region</th>\n",
       "      <th>position</th>\n",
       "      <th>strand</th>\n",
       "      <th>T_native_oxp1</th>\n",
       "      <th>T_corrected_oxp1</th>\n",
       "      <th>depth_stranded_oxp1</th>\n",
       "      <th>Tfreq_native_oxp1</th>\n",
       "      <th>Tfreq_corrected_oxp1</th>\n",
       "      <th>T_native_oxp2</th>\n",
       "      <th>T_corrected_oxp2</th>\n",
       "      <th>...</th>\n",
       "      <th>Tfreq_corrected_oxp4</th>\n",
       "      <th>5mer</th>\n",
       "      <th>Ref</th>\n",
       "      <th>Alt</th>\n",
       "      <th>Func.refGene</th>\n",
       "      <th>Gene.refGene</th>\n",
       "      <th>GeneDetail.refGene</th>\n",
       "      <th>ExonicFunc.refGene</th>\n",
       "      <th>AAChange.refGene</th>\n",
       "      <th>apobec1_pvalue</th>\n",
       "    </tr>\n",
       "  </thead>\n",
       "  <tbody>\n",
       "    <tr>\n",
       "      <th>58</th>\n",
       "      <td>chr11</td>\n",
       "      <td>118409168</td>\n",
       "      <td>+</td>\n",
       "      <td>19.0</td>\n",
       "      <td>4.0</td>\n",
       "      <td>204.0</td>\n",
       "      <td>0.093137</td>\n",
       "      <td>0.019608</td>\n",
       "      <td>21.0</td>\n",
       "      <td>6.0</td>\n",
       "      <td>...</td>\n",
       "      <td>0.027027</td>\n",
       "      <td>GACTG</td>\n",
       "      <td>C</td>\n",
       "      <td>T</td>\n",
       "      <td>ncRNA_intronic</td>\n",
       "      <td>LOC100131626</td>\n",
       "      <td>.</td>\n",
       "      <td>.</td>\n",
       "      <td>.</td>\n",
       "      <td>0.013842</td>\n",
       "    </tr>\n",
       "    <tr>\n",
       "      <th>254</th>\n",
       "      <td>chrX</td>\n",
       "      <td>115650505</td>\n",
       "      <td>+</td>\n",
       "      <td>24.0</td>\n",
       "      <td>2.0</td>\n",
       "      <td>98.0</td>\n",
       "      <td>0.244898</td>\n",
       "      <td>0.020408</td>\n",
       "      <td>15.0</td>\n",
       "      <td>3.0</td>\n",
       "      <td>...</td>\n",
       "      <td>0.038462</td>\n",
       "      <td>AACAA</td>\n",
       "      <td>C</td>\n",
       "      <td>T</td>\n",
       "      <td>UTR3</td>\n",
       "      <td>PLS3</td>\n",
       "      <td>NM_005032:c.*944C&gt;T;NM_001282337:c.*944C&gt;T;NM_...</td>\n",
       "      <td>.</td>\n",
       "      <td>.</td>\n",
       "      <td>0.000009</td>\n",
       "    </tr>\n",
       "    <tr>\n",
       "      <th>275</th>\n",
       "      <td>chr2</td>\n",
       "      <td>174720591</td>\n",
       "      <td>+</td>\n",
       "      <td>NaN</td>\n",
       "      <td>NaN</td>\n",
       "      <td>NaN</td>\n",
       "      <td>NaN</td>\n",
       "      <td>NaN</td>\n",
       "      <td>93.0</td>\n",
       "      <td>11.0</td>\n",
       "      <td>...</td>\n",
       "      <td>0.054054</td>\n",
       "      <td>AACTT</td>\n",
       "      <td>C</td>\n",
       "      <td>T</td>\n",
       "      <td>ncRNA_exonic</td>\n",
       "      <td>H3P6</td>\n",
       "      <td>.</td>\n",
       "      <td>.</td>\n",
       "      <td>.</td>\n",
       "      <td>0.002026</td>\n",
       "    </tr>\n",
       "    <tr>\n",
       "      <th>95</th>\n",
       "      <td>chr14</td>\n",
       "      <td>102081715</td>\n",
       "      <td>-</td>\n",
       "      <td>12.0</td>\n",
       "      <td>2.0</td>\n",
       "      <td>159.0</td>\n",
       "      <td>0.075472</td>\n",
       "      <td>0.012579</td>\n",
       "      <td>NaN</td>\n",
       "      <td>NaN</td>\n",
       "      <td>...</td>\n",
       "      <td>0.026316</td>\n",
       "      <td>GACTA</td>\n",
       "      <td>G</td>\n",
       "      <td>A</td>\n",
       "      <td>exonic</td>\n",
       "      <td>HSP90AA1</td>\n",
       "      <td>.</td>\n",
       "      <td>synonymous SNV</td>\n",
       "      <td>HSP90AA1:NM_005348:exon11:c.C2196T:p.D732D,HSP...</td>\n",
       "      <td>1.000000</td>\n",
       "    </tr>\n",
       "    <tr>\n",
       "      <th>226</th>\n",
       "      <td>chr8</td>\n",
       "      <td>85481429</td>\n",
       "      <td>+</td>\n",
       "      <td>11.0</td>\n",
       "      <td>3.0</td>\n",
       "      <td>74.0</td>\n",
       "      <td>0.148649</td>\n",
       "      <td>0.040541</td>\n",
       "      <td>16.0</td>\n",
       "      <td>5.0</td>\n",
       "      <td>...</td>\n",
       "      <td>0.037037</td>\n",
       "      <td>GACAA</td>\n",
       "      <td>C</td>\n",
       "      <td>T</td>\n",
       "      <td>UTR3</td>\n",
       "      <td>CA2</td>\n",
       "      <td>NM_001293675:c.*640C&gt;T;NM_000067:c.*640C&gt;T</td>\n",
       "      <td>.</td>\n",
       "      <td>.</td>\n",
       "      <td>0.000088</td>\n",
       "    </tr>\n",
       "    <tr>\n",
       "      <th>29</th>\n",
       "      <td>chr1</td>\n",
       "      <td>151982989</td>\n",
       "      <td>-</td>\n",
       "      <td>46.0</td>\n",
       "      <td>5.0</td>\n",
       "      <td>150.0</td>\n",
       "      <td>0.306667</td>\n",
       "      <td>0.033333</td>\n",
       "      <td>32.0</td>\n",
       "      <td>6.0</td>\n",
       "      <td>...</td>\n",
       "      <td>0.055556</td>\n",
       "      <td>TACCA</td>\n",
       "      <td>G</td>\n",
       "      <td>A</td>\n",
       "      <td>UTR3</td>\n",
       "      <td>S100A10</td>\n",
       "      <td>NM_002966:c.*174C&gt;T</td>\n",
       "      <td>.</td>\n",
       "      <td>.</td>\n",
       "      <td>0.000054</td>\n",
       "    </tr>\n",
       "    <tr>\n",
       "      <th>209</th>\n",
       "      <td>chr7</td>\n",
       "      <td>56063338</td>\n",
       "      <td>+</td>\n",
       "      <td>22.0</td>\n",
       "      <td>2.0</td>\n",
       "      <td>91.0</td>\n",
       "      <td>0.241758</td>\n",
       "      <td>0.021978</td>\n",
       "      <td>NaN</td>\n",
       "      <td>NaN</td>\n",
       "      <td>...</td>\n",
       "      <td>0.054545</td>\n",
       "      <td>GACAT</td>\n",
       "      <td>C</td>\n",
       "      <td>T</td>\n",
       "      <td>UTR3</td>\n",
       "      <td>CCT6A</td>\n",
       "      <td>NM_001762:c.*253C&gt;T;NM_001009186:c.*253C&gt;T</td>\n",
       "      <td>.</td>\n",
       "      <td>.</td>\n",
       "      <td>0.009335</td>\n",
       "    </tr>\n",
       "    <tr>\n",
       "      <th>60</th>\n",
       "      <td>chr11</td>\n",
       "      <td>123059918</td>\n",
       "      <td>-</td>\n",
       "      <td>41.0</td>\n",
       "      <td>3.0</td>\n",
       "      <td>84.0</td>\n",
       "      <td>0.488095</td>\n",
       "      <td>0.035714</td>\n",
       "      <td>NaN</td>\n",
       "      <td>NaN</td>\n",
       "      <td>...</td>\n",
       "      <td>0.029412</td>\n",
       "      <td>GACAC</td>\n",
       "      <td>G</td>\n",
       "      <td>A</td>\n",
       "      <td>exonic</td>\n",
       "      <td>HSPA8</td>\n",
       "      <td>.</td>\n",
       "      <td>synonymous SNV</td>\n",
       "      <td>HSPA8:NM_006597:exon5:c.C675T:p.D225D,HSPA8:NM...</td>\n",
       "      <td>1.000000</td>\n",
       "    </tr>\n",
       "  </tbody>\n",
       "</table>\n",
       "<p>8 rows × 32 columns</p>\n",
       "</div>"
      ],
      "text/plain": [
       "    region   position strand  T_native_oxp1  T_corrected_oxp1  \\\n",
       "58   chr11  118409168      +           19.0               4.0   \n",
       "254   chrX  115650505      +           24.0               2.0   \n",
       "275   chr2  174720591      +            NaN               NaN   \n",
       "95   chr14  102081715      -           12.0               2.0   \n",
       "226   chr8   85481429      +           11.0               3.0   \n",
       "29    chr1  151982989      -           46.0               5.0   \n",
       "209   chr7   56063338      +           22.0               2.0   \n",
       "60   chr11  123059918      -           41.0               3.0   \n",
       "\n",
       "     depth_stranded_oxp1  Tfreq_native_oxp1  Tfreq_corrected_oxp1  \\\n",
       "58                 204.0           0.093137              0.019608   \n",
       "254                 98.0           0.244898              0.020408   \n",
       "275                  NaN                NaN                   NaN   \n",
       "95                 159.0           0.075472              0.012579   \n",
       "226                 74.0           0.148649              0.040541   \n",
       "29                 150.0           0.306667              0.033333   \n",
       "209                 91.0           0.241758              0.021978   \n",
       "60                  84.0           0.488095              0.035714   \n",
       "\n",
       "     T_native_oxp2  T_corrected_oxp2  ...  Tfreq_corrected_oxp4   5mer  Ref  \\\n",
       "58            21.0               6.0  ...              0.027027  GACTG    C   \n",
       "254           15.0               3.0  ...              0.038462  AACAA    C   \n",
       "275           93.0              11.0  ...              0.054054  AACTT    C   \n",
       "95             NaN               NaN  ...              0.026316  GACTA    G   \n",
       "226           16.0               5.0  ...              0.037037  GACAA    C   \n",
       "29            32.0               6.0  ...              0.055556  TACCA    G   \n",
       "209            NaN               NaN  ...              0.054545  GACAT    C   \n",
       "60             NaN               NaN  ...              0.029412  GACAC    G   \n",
       "\n",
       "     Alt    Func.refGene  Gene.refGene  \\\n",
       "58     T  ncRNA_intronic  LOC100131626   \n",
       "254    T            UTR3          PLS3   \n",
       "275    T    ncRNA_exonic          H3P6   \n",
       "95     A          exonic      HSP90AA1   \n",
       "226    T            UTR3           CA2   \n",
       "29     A            UTR3       S100A10   \n",
       "209    T            UTR3         CCT6A   \n",
       "60     A          exonic         HSPA8   \n",
       "\n",
       "                                    GeneDetail.refGene  ExonicFunc.refGene  \\\n",
       "58                                                   .                   .   \n",
       "254  NM_005032:c.*944C>T;NM_001282337:c.*944C>T;NM_...                   .   \n",
       "275                                                  .                   .   \n",
       "95                                                   .      synonymous SNV   \n",
       "226         NM_001293675:c.*640C>T;NM_000067:c.*640C>T                   .   \n",
       "29                                 NM_002966:c.*174C>T                   .   \n",
       "209         NM_001762:c.*253C>T;NM_001009186:c.*253C>T                   .   \n",
       "60                                                   .      synonymous SNV   \n",
       "\n",
       "                                      AAChange.refGene  apobec1_pvalue  \n",
       "58                                                   .        0.013842  \n",
       "254                                                  .        0.000009  \n",
       "275                                                  .        0.002026  \n",
       "95   HSP90AA1:NM_005348:exon11:c.C2196T:p.D732D,HSP...        1.000000  \n",
       "226                                                  .        0.000088  \n",
       "29                                                   .        0.000054  \n",
       "209                                                  .        0.009335  \n",
       "60   HSPA8:NM_006597:exon5:c.C675T:p.D225D,HSPA8:NM...        1.000000  \n",
       "\n",
       "[8 rows x 32 columns]"
      ]
     },
     "execution_count": 3,
     "metadata": {},
     "output_type": "execute_result"
    }
   ],
   "source": [
    "# take the first N most edited sites after correction\n",
    "N = 8\n",
    "sel = reliable_human.query(\"depth_stranded_oxp4 < 100\").query(\"depth_stranded_oxp4 > 50\").sample(N)\n",
    "sel"
   ]
  },
  {
   "cell_type": "code",
   "execution_count": 4,
   "id": "292537a7",
   "metadata": {},
   "outputs": [
    {
     "data": {
      "text/plain": [
       "['HSPA8',\n",
       " 'CA2',\n",
       " 'CCT6A',\n",
       " 'HSP90AA1',\n",
       " 'S100A10',\n",
       " 'LOC100131626',\n",
       " 'H3P6',\n",
       " 'PLS3']"
      ]
     },
     "execution_count": 4,
     "metadata": {},
     "output_type": "execute_result"
    }
   ],
   "source": [
    "genes = sel[\"Gene.refGene\"].value_counts().index.tolist()\n",
    "genes"
   ]
  },
  {
   "cell_type": "code",
   "execution_count": 5,
   "id": "452843f9",
   "metadata": {},
   "outputs": [
    {
     "data": {
      "text/plain": [
       "8"
      ]
     },
     "execution_count": 5,
     "metadata": {},
     "output_type": "execute_result"
    }
   ],
   "source": [
    "len(genes)"
   ]
  },
  {
   "cell_type": "code",
   "execution_count": 6,
   "id": "d39aab9a",
   "metadata": {},
   "outputs": [
    {
     "data": {
      "text/plain": [
       "507.0"
      ]
     },
     "execution_count": 6,
     "metadata": {},
     "output_type": "execute_result"
    }
   ],
   "source": [
    "# compute approximative expected number of reads\n",
    "sel.depth_stranded_oxp4.sum()"
   ]
  },
  {
   "cell_type": "code",
   "execution_count": 7,
   "id": "d5c74af5",
   "metadata": {},
   "outputs": [
    {
     "name": "stderr",
     "output_type": "stream",
     "text": [
      "100%|██████████| 8/8 [00:29<00:00,  3.67s/it]\n"
     ]
    },
    {
     "data": {
      "text/html": [
       "<div>\n",
       "<style scoped>\n",
       "    .dataframe tbody tr th:only-of-type {\n",
       "        vertical-align: middle;\n",
       "    }\n",
       "\n",
       "    .dataframe tbody tr th {\n",
       "        vertical-align: top;\n",
       "    }\n",
       "\n",
       "    .dataframe thead th {\n",
       "        text-align: right;\n",
       "    }\n",
       "</style>\n",
       "<table border=\"1\" class=\"dataframe\">\n",
       "  <thead>\n",
       "    <tr style=\"text-align: right;\">\n",
       "      <th></th>\n",
       "      <th>0</th>\n",
       "      <th>1</th>\n",
       "      <th>2</th>\n",
       "      <th>3</th>\n",
       "    </tr>\n",
       "  </thead>\n",
       "  <tbody>\n",
       "    <tr>\n",
       "      <th>0</th>\n",
       "      <td>chr11</td>\n",
       "      <td>123057488</td>\n",
       "      <td>123063230</td>\n",
       "      <td>HSPA8</td>\n",
       "    </tr>\n",
       "    <tr>\n",
       "      <th>1</th>\n",
       "      <td>chr8</td>\n",
       "      <td>85463967</td>\n",
       "      <td>85481493</td>\n",
       "      <td>CA2</td>\n",
       "    </tr>\n",
       "    <tr>\n",
       "      <th>2</th>\n",
       "      <td>chr7</td>\n",
       "      <td>56051684</td>\n",
       "      <td>56063989</td>\n",
       "      <td>CCT6A</td>\n",
       "    </tr>\n",
       "    <tr>\n",
       "      <th>3</th>\n",
       "      <td>chr14</td>\n",
       "      <td>102080741</td>\n",
       "      <td>102139699</td>\n",
       "      <td>HSP90AA1</td>\n",
       "    </tr>\n",
       "    <tr>\n",
       "      <th>4</th>\n",
       "      <td>chr1</td>\n",
       "      <td>151982914</td>\n",
       "      <td>151993859</td>\n",
       "      <td>S100A10</td>\n",
       "    </tr>\n",
       "    <tr>\n",
       "      <th>5</th>\n",
       "      <td>chr2</td>\n",
       "      <td>174719907</td>\n",
       "      <td>174720318</td>\n",
       "      <td>H3P6</td>\n",
       "    </tr>\n",
       "    <tr>\n",
       "      <th>6</th>\n",
       "      <td>chrX</td>\n",
       "      <td>115561173</td>\n",
       "      <td>115650861</td>\n",
       "      <td>PLS3</td>\n",
       "    </tr>\n",
       "  </tbody>\n",
       "</table>\n",
       "</div>"
      ],
      "text/plain": [
       "       0          1          2         3\n",
       "0  chr11  123057488  123063230     HSPA8\n",
       "1   chr8   85463967   85481493       CA2\n",
       "2   chr7   56051684   56063989     CCT6A\n",
       "3  chr14  102080741  102139699  HSP90AA1\n",
       "4   chr1  151982914  151993859   S100A10\n",
       "5   chr2  174719907  174720318      H3P6\n",
       "6   chrX  115561173  115650861      PLS3"
      ]
     },
     "execution_count": 7,
     "metadata": {},
     "output_type": "execute_result"
    }
   ],
   "source": [
    "from tqdm import tqdm\n",
    "# load annotation gft\n",
    "anno_filepath = \"/lustre/bio_running/refs/gencode.v40.primary_assembly.annotation.gtf\"\n",
    "\n",
    "genes_coords = []\n",
    "\n",
    "with tqdm(total=len(genes)) as pbar:\n",
    "    for gene in genes:\n",
    "        with open(anno_filepath, \"r\") as anno:\n",
    "            for line in anno:\n",
    "                if not line.startswith(\"#\"):\n",
    "                    l = line.split(\"\\t\")\n",
    "                    if l[2] == \"gene\":\n",
    "                        if gene in line:\n",
    "                            if gene == (l[8].split(\"; \")[2].split(\" \")[1][1:-1]):\n",
    "                                # save to bed with coords (0 based right opened intervals)\n",
    "                                genes_coords.append([l[0], int(l[3])-1, int(l[4]), gene])\n",
    "        pbar.update(1)\n",
    "                            \n",
    "genes_coords = pd.DataFrame(genes_coords)\n",
    "genes_coords"
   ]
  },
  {
   "cell_type": "code",
   "execution_count": 8,
   "id": "4b53cf2c",
   "metadata": {},
   "outputs": [
    {
     "name": "stdout",
     "output_type": "stream",
     "text": [
      "chr11\t123057488\t123063230\tHSPA8\r\n",
      "chr8\t85463967\t85481493\tCA2\r\n",
      "chr7\t56051684\t56063989\tCCT6A\r\n",
      "chr14\t102080741\t102139699\tHSP90AA1\r\n",
      "chr1\t151982914\t151993859\tS100A10\r\n",
      "chr2\t174719907\t174720318\tH3P6\r\n",
      "chrX\t115561173\t115650861\tPLS3\r\n"
     ]
    }
   ],
   "source": [
    "# save as bed file (without headed)\n",
    "genes_coords.to_csv(\"reliable_human_intervals_for_bam_subsampling.bed\", sep=\"\\t\", header=None, index=None)\n",
    "# visualize bed file generated\n",
    "!cat reliable_human_intervals_for_bam_subsampling.bed"
   ]
  },
  {
   "cell_type": "code",
   "execution_count": 9,
   "id": "74b006f8",
   "metadata": {},
   "outputs": [],
   "source": [
    "# extract sub bam files using the created bed file for oxp2 and wt4 samples\n",
    "!samtools view -h -b -L reliable_human_intervals_for_bam_subsampling.bed /lustre/bio_running/conticello/oxp4/oxp4.bam > oxp4subsample.bam"
   ]
  },
  {
   "cell_type": "code",
   "execution_count": 10,
   "id": "fa63bde5",
   "metadata": {},
   "outputs": [
    {
     "name": "stdout",
     "output_type": "stream",
     "text": [
      "-rw-r--r-- 1 afonzino biomed 773K Aug 23 15:28 oxp4subsample.bam\r\n"
     ]
    }
   ],
   "source": [
    "# view size on disk of generated bam file\n",
    "!ls -lh oxp4subsample.bam"
   ]
  },
  {
   "cell_type": "code",
   "execution_count": 11,
   "id": "8f2c6cb7",
   "metadata": {},
   "outputs": [],
   "source": [
    "# index bam subsample file\n",
    "!samtools index oxp4subsample.bam"
   ]
  },
  {
   "cell_type": "code",
   "execution_count": 12,
   "id": "78d2829b",
   "metadata": {},
   "outputs": [
    {
     "name": "stdout",
     "output_type": "stream",
     "text": [
      "667\r\n"
     ]
    }
   ],
   "source": [
    "# view total number of reads\n",
    "!samtools view oxp4subsample.bam | wc -l"
   ]
  },
  {
   "cell_type": "code",
   "execution_count": 13,
   "id": "e22a553c",
   "metadata": {},
   "outputs": [
    {
     "name": "stdout",
     "output_type": "stream",
     "text": [
      "    266 0\r\n",
      "    401 16\r\n"
     ]
    }
   ],
   "source": [
    "# view flags\n",
    "!samtools view oxp4subsample.bam | cut -f 2 | sort | uniq -c "
   ]
  },
  {
   "cell_type": "code",
   "execution_count": 14,
   "id": "1ce95ff7",
   "metadata": {},
   "outputs": [
    {
     "name": "stdout",
     "output_type": "stream",
     "text": [
      "     55 chr1\r\n",
      "    142 chr11\r\n",
      "    204 chr14\r\n",
      "     66 chr2\r\n",
      "     78 chr7\r\n",
      "     58 chr8\r\n",
      "     64 chrX\r\n"
     ]
    }
   ],
   "source": [
    "# view regions\n",
    "!samtools view oxp4subsample.bam | cut -f 3 | sort | uniq -c "
   ]
  },
  {
   "cell_type": "code",
   "execution_count": 15,
   "id": "dd69d367",
   "metadata": {},
   "outputs": [],
   "source": [
    "# let's do the same thing for the wt4 sample\n",
    "!samtools view -h -b -L reliable_human_intervals_for_bam_subsampling.bed /lustre/bio_running/conticello/wt4/wt4.bam > wt4subsample.bam\n",
    "!samtools index wt4subsample.bam"
   ]
  },
  {
   "cell_type": "code",
   "execution_count": 16,
   "id": "a3b73622",
   "metadata": {},
   "outputs": [
    {
     "name": "stdout",
     "output_type": "stream",
     "text": [
      "-rw-r--r-- 1 afonzino biomed 8.9M Aug 23 15:28 wt4subsample.bam\r\n"
     ]
    }
   ],
   "source": [
    "# view size on disk of generated bam file\n",
    "!ls -lh wt4subsample.bam"
   ]
  },
  {
   "cell_type": "code",
   "execution_count": 17,
   "id": "63eeed50",
   "metadata": {},
   "outputs": [
    {
     "name": "stdout",
     "output_type": "stream",
     "text": [
      "5858\r\n"
     ]
    }
   ],
   "source": [
    "!samtools view wt4subsample.bam | wc -l"
   ]
  },
  {
   "cell_type": "code",
   "execution_count": 18,
   "id": "ddb2cb59",
   "metadata": {},
   "outputs": [
    {
     "name": "stdout",
     "output_type": "stream",
     "text": [
      "   2925 0\r\n",
      "   2928 16\r\n",
      "      2 2048\r\n",
      "      3 2064\r\n"
     ]
    }
   ],
   "source": [
    "!samtools view wt4subsample.bam | cut -f 2 | sort | uniq -c "
   ]
  },
  {
   "cell_type": "code",
   "execution_count": 19,
   "id": "621effcb",
   "metadata": {},
   "outputs": [
    {
     "name": "stdout",
     "output_type": "stream",
     "text": [
      "    282 chr1\r\n",
      "   1557 chr11\r\n",
      "   1095 chr14\r\n",
      "   1159 chr2\r\n",
      "    467 chr7\r\n",
      "    576 chr8\r\n",
      "    722 chrX\r\n"
     ]
    }
   ],
   "source": [
    "!samtools view wt4subsample.bam | cut -f 3 | sort | uniq -c "
   ]
  },
  {
   "cell_type": "code",
   "execution_count": 20,
   "id": "4023cec3",
   "metadata": {},
   "outputs": [
    {
     "name": "stdout",
     "output_type": "stream",
     "text": [
      "667\r\n"
     ]
    }
   ],
   "source": [
    "# extract read names for both the subsampled bam files\n",
    "!samtools view oxp4subsample.bam | cut -f 1 | sort -u > oxp4subsample.bam.readnames\n",
    "!cat oxp4subsample.bam.readnames | wc -l"
   ]
  },
  {
   "cell_type": "code",
   "execution_count": 21,
   "id": "963af2a7",
   "metadata": {},
   "outputs": [
    {
     "name": "stdout",
     "output_type": "stream",
     "text": [
      "5858\r\n"
     ]
    }
   ],
   "source": [
    "!samtools view wt4subsample.bam | cut -f 1 | sort -u > wt4subsample.bam.readnames\n",
    "!cat wt4subsample.bam.readnames | wc -l"
   ]
  },
  {
   "cell_type": "code",
   "execution_count": 27,
   "id": "a6fe1a76",
   "metadata": {},
   "outputs": [
    {
     "name": "stdout",
     "output_type": "stream",
     "text": [
      "DEBUG:h5py._conv:Creating converter from 5 to 3             |  0% ETA:  --:--:--\n",
      "| 766 of 766|################################################|100% Time: 0:04:28\n",
      "INFO:Fast5Filter:667 reads extracted\n"
     ]
    }
   ],
   "source": [
    "# extract fast5 using readnames lists for both samples\n",
    "!fast5_subset -i /lustre/bio_running/conticello/oxp4/workspace -s oxp4subsample.fast5 -l oxp4subsample.bam.readnames"
   ]
  },
  {
   "cell_type": "code",
   "execution_count": 28,
   "id": "cc8c866d",
   "metadata": {},
   "outputs": [
    {
     "name": "stdout",
     "output_type": "stream",
     "text": [
      "DEBUG:h5py._conv:Creating converter from 5 to 3             |  0% ETA:  --:--:--\n",
      "| 6371 of 6371|##############################################|100% Time: 0:28:48\n",
      "INFO:Fast5Filter:5858 reads extracted\n"
     ]
    }
   ],
   "source": [
    "!fast5_subset -i /lustre/bio_running/conticello/wt4/workspace -s wt4subsample.fast5 -l wt4subsample.bam.readnames"
   ]
  },
  {
   "cell_type": "markdown",
   "id": "1442541a",
   "metadata": {},
   "source": [
    "Ok! We've done for the human data! Now let's perform the same operations on murine runs (WT and KO APOBEC1)"
   ]
  },
  {
   "cell_type": "code",
   "execution_count": 61,
   "id": "46b84aee",
   "metadata": {},
   "outputs": [
    {
     "data": {
      "text/html": [
       "<div>\n",
       "<style scoped>\n",
       "    .dataframe tbody tr th:only-of-type {\n",
       "        vertical-align: middle;\n",
       "    }\n",
       "\n",
       "    .dataframe tbody tr th {\n",
       "        vertical-align: top;\n",
       "    }\n",
       "\n",
       "    .dataframe thead th {\n",
       "        text-align: right;\n",
       "    }\n",
       "</style>\n",
       "<table border=\"1\" class=\"dataframe\">\n",
       "  <thead>\n",
       "    <tr style=\"text-align: right;\">\n",
       "      <th></th>\n",
       "      <th>position</th>\n",
       "      <th>strand</th>\n",
       "      <th>T_native</th>\n",
       "      <th>T_corrected</th>\n",
       "      <th>depth_stranded</th>\n",
       "      <th>Tfreq_native</th>\n",
       "      <th>Tfreq_corrected</th>\n",
       "      <th>5mer</th>\n",
       "      <th>Ref</th>\n",
       "      <th>Alt</th>\n",
       "      <th>Func.refGene</th>\n",
       "      <th>Gene.refGene</th>\n",
       "      <th>GeneDetail.refGene</th>\n",
       "      <th>ExonicFunc.refGene</th>\n",
       "      <th>AAChange.refGene</th>\n",
       "    </tr>\n",
       "    <tr>\n",
       "      <th>region</th>\n",
       "      <th></th>\n",
       "      <th></th>\n",
       "      <th></th>\n",
       "      <th></th>\n",
       "      <th></th>\n",
       "      <th></th>\n",
       "      <th></th>\n",
       "      <th></th>\n",
       "      <th></th>\n",
       "      <th></th>\n",
       "      <th></th>\n",
       "      <th></th>\n",
       "      <th></th>\n",
       "      <th></th>\n",
       "      <th></th>\n",
       "    </tr>\n",
       "  </thead>\n",
       "  <tbody>\n",
       "    <tr>\n",
       "      <th>chr1</th>\n",
       "      <td>4915375</td>\n",
       "      <td>+</td>\n",
       "      <td>3</td>\n",
       "      <td>2.0</td>\n",
       "      <td>51</td>\n",
       "      <td>0.058824</td>\n",
       "      <td>0.039216</td>\n",
       "      <td>GACTA</td>\n",
       "      <td>C</td>\n",
       "      <td>T</td>\n",
       "      <td>UTR3</td>\n",
       "      <td>Lypla1</td>\n",
       "      <td>NM_001355712:c.*136C&gt;T;NM_008866:c.*136C&gt;T</td>\n",
       "      <td>.</td>\n",
       "      <td>.</td>\n",
       "    </tr>\n",
       "    <tr>\n",
       "      <th>chr1</th>\n",
       "      <td>4915467</td>\n",
       "      <td>+</td>\n",
       "      <td>5</td>\n",
       "      <td>3.0</td>\n",
       "      <td>55</td>\n",
       "      <td>0.090909</td>\n",
       "      <td>0.054545</td>\n",
       "      <td>TACAG</td>\n",
       "      <td>C</td>\n",
       "      <td>T</td>\n",
       "      <td>UTR3</td>\n",
       "      <td>Lypla1</td>\n",
       "      <td>NM_001355712:c.*228C&gt;T;NM_008866:c.*228C&gt;T</td>\n",
       "      <td>.</td>\n",
       "      <td>.</td>\n",
       "    </tr>\n",
       "    <tr>\n",
       "      <th>chr1</th>\n",
       "      <td>4915694</td>\n",
       "      <td>+</td>\n",
       "      <td>7</td>\n",
       "      <td>3.0</td>\n",
       "      <td>51</td>\n",
       "      <td>0.137255</td>\n",
       "      <td>0.058824</td>\n",
       "      <td>TACTA</td>\n",
       "      <td>C</td>\n",
       "      <td>T</td>\n",
       "      <td>UTR3</td>\n",
       "      <td>Lypla1</td>\n",
       "      <td>NM_001355712:c.*455C&gt;T;NM_008866:c.*455C&gt;T</td>\n",
       "      <td>.</td>\n",
       "      <td>.</td>\n",
       "    </tr>\n",
       "    <tr>\n",
       "      <th>chr1</th>\n",
       "      <td>4916144</td>\n",
       "      <td>+</td>\n",
       "      <td>4</td>\n",
       "      <td>2.0</td>\n",
       "      <td>62</td>\n",
       "      <td>0.064516</td>\n",
       "      <td>0.032258</td>\n",
       "      <td>TACTT</td>\n",
       "      <td>C</td>\n",
       "      <td>T</td>\n",
       "      <td>UTR3</td>\n",
       "      <td>Lypla1</td>\n",
       "      <td>NM_001355712:c.*905C&gt;T;NM_008866:c.*905C&gt;T</td>\n",
       "      <td>.</td>\n",
       "      <td>.</td>\n",
       "    </tr>\n",
       "    <tr>\n",
       "      <th>chr1</th>\n",
       "      <td>4916361</td>\n",
       "      <td>+</td>\n",
       "      <td>4</td>\n",
       "      <td>2.0</td>\n",
       "      <td>67</td>\n",
       "      <td>0.059701</td>\n",
       "      <td>0.029851</td>\n",
       "      <td>TACAT</td>\n",
       "      <td>C</td>\n",
       "      <td>T</td>\n",
       "      <td>UTR3</td>\n",
       "      <td>Lypla1</td>\n",
       "      <td>NM_001355712:c.*1122C&gt;T;NM_008866:c.*1122C&gt;T</td>\n",
       "      <td>.</td>\n",
       "      <td>.</td>\n",
       "    </tr>\n",
       "    <tr>\n",
       "      <th>...</th>\n",
       "      <td>...</td>\n",
       "      <td>...</td>\n",
       "      <td>...</td>\n",
       "      <td>...</td>\n",
       "      <td>...</td>\n",
       "      <td>...</td>\n",
       "      <td>...</td>\n",
       "      <td>...</td>\n",
       "      <td>...</td>\n",
       "      <td>...</td>\n",
       "      <td>...</td>\n",
       "      <td>...</td>\n",
       "      <td>...</td>\n",
       "      <td>...</td>\n",
       "      <td>...</td>\n",
       "    </tr>\n",
       "    <tr>\n",
       "      <th>chrX</th>\n",
       "      <td>156228730</td>\n",
       "      <td>-</td>\n",
       "      <td>5</td>\n",
       "      <td>2.0</td>\n",
       "      <td>60</td>\n",
       "      <td>0.083333</td>\n",
       "      <td>0.033333</td>\n",
       "      <td>GACTT</td>\n",
       "      <td>G</td>\n",
       "      <td>A</td>\n",
       "      <td>UTR3</td>\n",
       "      <td>Sms</td>\n",
       "      <td>NM_001359185:c.*403C&gt;T;NM_009214:c.*403C&gt;T</td>\n",
       "      <td>.</td>\n",
       "      <td>.</td>\n",
       "    </tr>\n",
       "    <tr>\n",
       "      <th>chrX</th>\n",
       "      <td>158168468</td>\n",
       "      <td>+</td>\n",
       "      <td>5</td>\n",
       "      <td>3.0</td>\n",
       "      <td>132</td>\n",
       "      <td>0.037879</td>\n",
       "      <td>0.022727</td>\n",
       "      <td>ATCTG</td>\n",
       "      <td>C</td>\n",
       "      <td>T</td>\n",
       "      <td>UTR3</td>\n",
       "      <td>Eif1ax</td>\n",
       "      <td>NM_025437:c.*59C&gt;T</td>\n",
       "      <td>.</td>\n",
       "      <td>.</td>\n",
       "    </tr>\n",
       "    <tr>\n",
       "      <th>chrX</th>\n",
       "      <td>158168569</td>\n",
       "      <td>+</td>\n",
       "      <td>25</td>\n",
       "      <td>2.0</td>\n",
       "      <td>110</td>\n",
       "      <td>0.227273</td>\n",
       "      <td>0.018182</td>\n",
       "      <td>CGCTA</td>\n",
       "      <td>C</td>\n",
       "      <td>T</td>\n",
       "      <td>UTR3</td>\n",
       "      <td>Eif1ax</td>\n",
       "      <td>NM_025437:c.*160C&gt;T</td>\n",
       "      <td>.</td>\n",
       "      <td>.</td>\n",
       "    </tr>\n",
       "    <tr>\n",
       "      <th>chrX</th>\n",
       "      <td>161556464</td>\n",
       "      <td>+</td>\n",
       "      <td>5</td>\n",
       "      <td>2.0</td>\n",
       "      <td>145</td>\n",
       "      <td>0.034483</td>\n",
       "      <td>0.013793</td>\n",
       "      <td>ATCTG</td>\n",
       "      <td>C</td>\n",
       "      <td>T</td>\n",
       "      <td>exonic</td>\n",
       "      <td>Rbbp7</td>\n",
       "      <td>.</td>\n",
       "      <td>unknown</td>\n",
       "      <td>UNKNOWN</td>\n",
       "    </tr>\n",
       "    <tr>\n",
       "      <th>chrY</th>\n",
       "      <td>4795968</td>\n",
       "      <td>-</td>\n",
       "      <td>226</td>\n",
       "      <td>4.0</td>\n",
       "      <td>249</td>\n",
       "      <td>0.907631</td>\n",
       "      <td>0.016064</td>\n",
       "      <td>GGCTT</td>\n",
       "      <td>G</td>\n",
       "      <td>A</td>\n",
       "      <td>intergenic</td>\n",
       "      <td>Gm21064;NONE</td>\n",
       "      <td>dist=414244;dist=NONE</td>\n",
       "      <td>.</td>\n",
       "      <td>.</td>\n",
       "    </tr>\n",
       "  </tbody>\n",
       "</table>\n",
       "<p>1553 rows × 15 columns</p>\n",
       "</div>"
      ],
      "text/plain": [
       "         position strand  T_native  T_corrected  depth_stranded  Tfreq_native  \\\n",
       "region                                                                          \n",
       "chr1      4915375      +         3          2.0              51      0.058824   \n",
       "chr1      4915467      +         5          3.0              55      0.090909   \n",
       "chr1      4915694      +         7          3.0              51      0.137255   \n",
       "chr1      4916144      +         4          2.0              62      0.064516   \n",
       "chr1      4916361      +         4          2.0              67      0.059701   \n",
       "...           ...    ...       ...          ...             ...           ...   \n",
       "chrX    156228730      -         5          2.0              60      0.083333   \n",
       "chrX    158168468      +         5          3.0             132      0.037879   \n",
       "chrX    158168569      +        25          2.0             110      0.227273   \n",
       "chrX    161556464      +         5          2.0             145      0.034483   \n",
       "chrY      4795968      -       226          4.0             249      0.907631   \n",
       "\n",
       "        Tfreq_corrected   5mer Ref Alt Func.refGene  Gene.refGene  \\\n",
       "region                                                              \n",
       "chr1           0.039216  GACTA   C   T         UTR3        Lypla1   \n",
       "chr1           0.054545  TACAG   C   T         UTR3        Lypla1   \n",
       "chr1           0.058824  TACTA   C   T         UTR3        Lypla1   \n",
       "chr1           0.032258  TACTT   C   T         UTR3        Lypla1   \n",
       "chr1           0.029851  TACAT   C   T         UTR3        Lypla1   \n",
       "...                 ...    ...  ..  ..          ...           ...   \n",
       "chrX           0.033333  GACTT   G   A         UTR3           Sms   \n",
       "chrX           0.022727  ATCTG   C   T         UTR3        Eif1ax   \n",
       "chrX           0.018182  CGCTA   C   T         UTR3        Eif1ax   \n",
       "chrX           0.013793  ATCTG   C   T       exonic         Rbbp7   \n",
       "chrY           0.016064  GGCTT   G   A   intergenic  Gm21064;NONE   \n",
       "\n",
       "                                  GeneDetail.refGene ExonicFunc.refGene  \\\n",
       "region                                                                    \n",
       "chr1      NM_001355712:c.*136C>T;NM_008866:c.*136C>T                  .   \n",
       "chr1      NM_001355712:c.*228C>T;NM_008866:c.*228C>T                  .   \n",
       "chr1      NM_001355712:c.*455C>T;NM_008866:c.*455C>T                  .   \n",
       "chr1      NM_001355712:c.*905C>T;NM_008866:c.*905C>T                  .   \n",
       "chr1    NM_001355712:c.*1122C>T;NM_008866:c.*1122C>T                  .   \n",
       "...                                              ...                ...   \n",
       "chrX      NM_001359185:c.*403C>T;NM_009214:c.*403C>T                  .   \n",
       "chrX                              NM_025437:c.*59C>T                  .   \n",
       "chrX                             NM_025437:c.*160C>T                  .   \n",
       "chrX                                               .            unknown   \n",
       "chrY                           dist=414244;dist=NONE                  .   \n",
       "\n",
       "       AAChange.refGene  \n",
       "region                   \n",
       "chr1                  .  \n",
       "chr1                  .  \n",
       "chr1                  .  \n",
       "chr1                  .  \n",
       "chr1                  .  \n",
       "...                 ...  \n",
       "chrX                  .  \n",
       "chrX                  .  \n",
       "chrX                  .  \n",
       "chrX            UNKNOWN  \n",
       "chrY                  .  \n",
       "\n",
       "[1553 rows x 15 columns]"
      ]
     },
     "execution_count": 61,
     "metadata": {},
     "output_type": "execute_result"
    }
   ],
   "source": [
    "# load reliable sites\n",
    "reliable_murine = pd.read_table(\"reliable_ed_pos_murine_data.tsv\", index_col=0)\n",
    "reliable_murine"
   ]
  },
  {
   "cell_type": "code",
   "execution_count": 62,
   "id": "1363efef",
   "metadata": {},
   "outputs": [
    {
     "data": {
      "text/html": [
       "<div>\n",
       "<style scoped>\n",
       "    .dataframe tbody tr th:only-of-type {\n",
       "        vertical-align: middle;\n",
       "    }\n",
       "\n",
       "    .dataframe tbody tr th {\n",
       "        vertical-align: top;\n",
       "    }\n",
       "\n",
       "    .dataframe thead th {\n",
       "        text-align: right;\n",
       "    }\n",
       "</style>\n",
       "<table border=\"1\" class=\"dataframe\">\n",
       "  <thead>\n",
       "    <tr style=\"text-align: right;\">\n",
       "      <th></th>\n",
       "      <th>position</th>\n",
       "      <th>strand</th>\n",
       "      <th>T_native</th>\n",
       "      <th>T_corrected</th>\n",
       "      <th>depth_stranded</th>\n",
       "      <th>Tfreq_native</th>\n",
       "      <th>Tfreq_corrected</th>\n",
       "      <th>5mer</th>\n",
       "      <th>Ref</th>\n",
       "      <th>Alt</th>\n",
       "      <th>Func.refGene</th>\n",
       "      <th>Gene.refGene</th>\n",
       "      <th>GeneDetail.refGene</th>\n",
       "      <th>ExonicFunc.refGene</th>\n",
       "      <th>AAChange.refGene</th>\n",
       "    </tr>\n",
       "    <tr>\n",
       "      <th>region</th>\n",
       "      <th></th>\n",
       "      <th></th>\n",
       "      <th></th>\n",
       "      <th></th>\n",
       "      <th></th>\n",
       "      <th></th>\n",
       "      <th></th>\n",
       "      <th></th>\n",
       "      <th></th>\n",
       "      <th></th>\n",
       "      <th></th>\n",
       "      <th></th>\n",
       "      <th></th>\n",
       "      <th></th>\n",
       "      <th></th>\n",
       "    </tr>\n",
       "  </thead>\n",
       "  <tbody>\n",
       "    <tr>\n",
       "      <th>chr17</th>\n",
       "      <td>79229564</td>\n",
       "      <td>-</td>\n",
       "      <td>6</td>\n",
       "      <td>2.0</td>\n",
       "      <td>56</td>\n",
       "      <td>0.107143</td>\n",
       "      <td>0.035714</td>\n",
       "      <td>TGCTC</td>\n",
       "      <td>G</td>\n",
       "      <td>A</td>\n",
       "      <td>exonic</td>\n",
       "      <td>Cebpz</td>\n",
       "      <td>.</td>\n",
       "      <td>unknown</td>\n",
       "      <td>UNKNOWN</td>\n",
       "    </tr>\n",
       "    <tr>\n",
       "      <th>chr11</th>\n",
       "      <td>16931833</td>\n",
       "      <td>-</td>\n",
       "      <td>5</td>\n",
       "      <td>2.0</td>\n",
       "      <td>97</td>\n",
       "      <td>0.051546</td>\n",
       "      <td>0.020619</td>\n",
       "      <td>ATCAA</td>\n",
       "      <td>G</td>\n",
       "      <td>A</td>\n",
       "      <td>exonic</td>\n",
       "      <td>Plek</td>\n",
       "      <td>.</td>\n",
       "      <td>unknown</td>\n",
       "      <td>UNKNOWN</td>\n",
       "    </tr>\n",
       "    <tr>\n",
       "      <th>chr8</th>\n",
       "      <td>120074880</td>\n",
       "      <td>+</td>\n",
       "      <td>7</td>\n",
       "      <td>2.0</td>\n",
       "      <td>69</td>\n",
       "      <td>0.101449</td>\n",
       "      <td>0.028986</td>\n",
       "      <td>TTCTT</td>\n",
       "      <td>C</td>\n",
       "      <td>T</td>\n",
       "      <td>UTR3</td>\n",
       "      <td>Hsbp1</td>\n",
       "      <td>NM_024219:c.*108C&gt;T</td>\n",
       "      <td>.</td>\n",
       "      <td>.</td>\n",
       "    </tr>\n",
       "    <tr>\n",
       "      <th>chrX</th>\n",
       "      <td>133507395</td>\n",
       "      <td>+</td>\n",
       "      <td>10</td>\n",
       "      <td>3.0</td>\n",
       "      <td>55</td>\n",
       "      <td>0.181818</td>\n",
       "      <td>0.054545</td>\n",
       "      <td>TACTT</td>\n",
       "      <td>C</td>\n",
       "      <td>T</td>\n",
       "      <td>UTR3</td>\n",
       "      <td>Hnrnph2</td>\n",
       "      <td>NM_001313716:c.*389C&gt;T;NM_001313717:c.*389C&gt;T;...</td>\n",
       "      <td>.</td>\n",
       "      <td>.</td>\n",
       "    </tr>\n",
       "    <tr>\n",
       "      <th>chr11</th>\n",
       "      <td>83555297</td>\n",
       "      <td>+</td>\n",
       "      <td>4</td>\n",
       "      <td>2.0</td>\n",
       "      <td>57</td>\n",
       "      <td>0.070175</td>\n",
       "      <td>0.035088</td>\n",
       "      <td>CACGT</td>\n",
       "      <td>C</td>\n",
       "      <td>T</td>\n",
       "      <td>UTR3</td>\n",
       "      <td>Ccl4</td>\n",
       "      <td>NM_013652:c.*90C&gt;T</td>\n",
       "      <td>.</td>\n",
       "      <td>.</td>\n",
       "    </tr>\n",
       "    <tr>\n",
       "      <th>chr6</th>\n",
       "      <td>95451869</td>\n",
       "      <td>-</td>\n",
       "      <td>4</td>\n",
       "      <td>2.0</td>\n",
       "      <td>97</td>\n",
       "      <td>0.041237</td>\n",
       "      <td>0.020619</td>\n",
       "      <td>TACTG</td>\n",
       "      <td>G</td>\n",
       "      <td>A</td>\n",
       "      <td>UTR3</td>\n",
       "      <td>Suclg2</td>\n",
       "      <td>NM_001326558:c.*161C&gt;T;NM_011507:c.*161C&gt;T</td>\n",
       "      <td>.</td>\n",
       "      <td>.</td>\n",
       "    </tr>\n",
       "    <tr>\n",
       "      <th>chr7</th>\n",
       "      <td>102092249</td>\n",
       "      <td>+</td>\n",
       "      <td>8</td>\n",
       "      <td>2.0</td>\n",
       "      <td>66</td>\n",
       "      <td>0.121212</td>\n",
       "      <td>0.030303</td>\n",
       "      <td>CTCTG</td>\n",
       "      <td>C</td>\n",
       "      <td>T</td>\n",
       "      <td>exonic</td>\n",
       "      <td>Rrm1</td>\n",
       "      <td>.</td>\n",
       "      <td>unknown</td>\n",
       "      <td>UNKNOWN</td>\n",
       "    </tr>\n",
       "  </tbody>\n",
       "</table>\n",
       "</div>"
      ],
      "text/plain": [
       "         position strand  T_native  T_corrected  depth_stranded  Tfreq_native  \\\n",
       "region                                                                          \n",
       "chr17    79229564      -         6          2.0              56      0.107143   \n",
       "chr11    16931833      -         5          2.0              97      0.051546   \n",
       "chr8    120074880      +         7          2.0              69      0.101449   \n",
       "chrX    133507395      +        10          3.0              55      0.181818   \n",
       "chr11    83555297      +         4          2.0              57      0.070175   \n",
       "chr6     95451869      -         4          2.0              97      0.041237   \n",
       "chr7    102092249      +         8          2.0              66      0.121212   \n",
       "\n",
       "        Tfreq_corrected   5mer Ref Alt Func.refGene Gene.refGene  \\\n",
       "region                                                             \n",
       "chr17          0.035714  TGCTC   G   A       exonic        Cebpz   \n",
       "chr11          0.020619  ATCAA   G   A       exonic         Plek   \n",
       "chr8           0.028986  TTCTT   C   T         UTR3        Hsbp1   \n",
       "chrX           0.054545  TACTT   C   T         UTR3      Hnrnph2   \n",
       "chr11          0.035088  CACGT   C   T         UTR3         Ccl4   \n",
       "chr6           0.020619  TACTG   G   A         UTR3       Suclg2   \n",
       "chr7           0.030303  CTCTG   C   T       exonic         Rrm1   \n",
       "\n",
       "                                       GeneDetail.refGene ExonicFunc.refGene  \\\n",
       "region                                                                         \n",
       "chr17                                                   .            unknown   \n",
       "chr11                                                   .            unknown   \n",
       "chr8                                  NM_024219:c.*108C>T                  .   \n",
       "chrX    NM_001313716:c.*389C>T;NM_001313717:c.*389C>T;...                  .   \n",
       "chr11                                  NM_013652:c.*90C>T                  .   \n",
       "chr6           NM_001326558:c.*161C>T;NM_011507:c.*161C>T                  .   \n",
       "chr7                                                    .            unknown   \n",
       "\n",
       "       AAChange.refGene  \n",
       "region                   \n",
       "chr17           UNKNOWN  \n",
       "chr11           UNKNOWN  \n",
       "chr8                  .  \n",
       "chrX                  .  \n",
       "chr11                 .  \n",
       "chr6                  .  \n",
       "chr7            UNKNOWN  "
      ]
     },
     "execution_count": 62,
     "metadata": {},
     "output_type": "execute_result"
    }
   ],
   "source": [
    "# take the first N most edited sites after correction\n",
    "N = 7\n",
    "sel = reliable_murine.query(\"depth_stranded < 100\").query(\"depth_stranded > 50\").sample(N)\n",
    "sel"
   ]
  },
  {
   "cell_type": "code",
   "execution_count": 63,
   "id": "19a4a40e",
   "metadata": {},
   "outputs": [
    {
     "data": {
      "text/plain": [
       "['Plek', 'Hsbp1', 'Rrm1', 'Cebpz', 'Hnrnph2', 'Ccl4', 'Suclg2']"
      ]
     },
     "execution_count": 63,
     "metadata": {},
     "output_type": "execute_result"
    }
   ],
   "source": [
    "genes = sel[\"Gene.refGene\"].value_counts().index.tolist()\n",
    "genes"
   ]
  },
  {
   "cell_type": "code",
   "execution_count": 64,
   "id": "320f42d2",
   "metadata": {},
   "outputs": [],
   "source": [
    "# append well known B2m gene (it is known to be edited in murine cells)\n",
    "genes.append(\"B2m\")"
   ]
  },
  {
   "cell_type": "code",
   "execution_count": 65,
   "id": "2fbe28bf",
   "metadata": {},
   "outputs": [
    {
     "data": {
      "text/plain": [
       "8"
      ]
     },
     "execution_count": 65,
     "metadata": {},
     "output_type": "execute_result"
    }
   ],
   "source": [
    "len(genes)"
   ]
  },
  {
   "cell_type": "code",
   "execution_count": 66,
   "id": "65f509f4",
   "metadata": {},
   "outputs": [
    {
     "data": {
      "text/plain": [
       "['Plek', 'Hsbp1', 'Rrm1', 'Cebpz', 'Hnrnph2', 'Ccl4', 'Suclg2', 'B2m']"
      ]
     },
     "execution_count": 66,
     "metadata": {},
     "output_type": "execute_result"
    }
   ],
   "source": [
    "genes"
   ]
  },
  {
   "cell_type": "code",
   "execution_count": 67,
   "id": "05d9aabe",
   "metadata": {},
   "outputs": [
    {
     "data": {
      "text/plain": [
       "497"
      ]
     },
     "execution_count": 67,
     "metadata": {},
     "output_type": "execute_result"
    }
   ],
   "source": [
    "# compute approximative expected number of reads\n",
    "sel.depth_stranded.sum()"
   ]
  },
  {
   "cell_type": "code",
   "execution_count": 68,
   "id": "17f0f295",
   "metadata": {},
   "outputs": [
    {
     "name": "stderr",
     "output_type": "stream",
     "text": [
      "100%|██████████| 8/8 [00:17<00:00,  2.22s/it]\n"
     ]
    },
    {
     "data": {
      "text/html": [
       "<div>\n",
       "<style scoped>\n",
       "    .dataframe tbody tr th:only-of-type {\n",
       "        vertical-align: middle;\n",
       "    }\n",
       "\n",
       "    .dataframe tbody tr th {\n",
       "        vertical-align: top;\n",
       "    }\n",
       "\n",
       "    .dataframe thead th {\n",
       "        text-align: right;\n",
       "    }\n",
       "</style>\n",
       "<table border=\"1\" class=\"dataframe\">\n",
       "  <thead>\n",
       "    <tr style=\"text-align: right;\">\n",
       "      <th></th>\n",
       "      <th>0</th>\n",
       "      <th>1</th>\n",
       "      <th>2</th>\n",
       "      <th>3</th>\n",
       "    </tr>\n",
       "  </thead>\n",
       "  <tbody>\n",
       "    <tr>\n",
       "      <th>0</th>\n",
       "      <td>chr11</td>\n",
       "      <td>16921205</td>\n",
       "      <td>17002381</td>\n",
       "      <td>Plek</td>\n",
       "    </tr>\n",
       "    <tr>\n",
       "      <th>1</th>\n",
       "      <td>chr8</td>\n",
       "      <td>120071226</td>\n",
       "      <td>120075661</td>\n",
       "      <td>Hsbp1</td>\n",
       "    </tr>\n",
       "    <tr>\n",
       "      <th>2</th>\n",
       "      <td>chr7</td>\n",
       "      <td>102090901</td>\n",
       "      <td>102118978</td>\n",
       "      <td>Rrm1</td>\n",
       "    </tr>\n",
       "    <tr>\n",
       "      <th>3</th>\n",
       "      <td>chr17</td>\n",
       "      <td>79226434</td>\n",
       "      <td>79244495</td>\n",
       "      <td>Cebpz</td>\n",
       "    </tr>\n",
       "    <tr>\n",
       "      <th>4</th>\n",
       "      <td>chrX</td>\n",
       "      <td>133501927</td>\n",
       "      <td>133507809</td>\n",
       "      <td>Hnrnph2</td>\n",
       "    </tr>\n",
       "    <tr>\n",
       "      <th>5</th>\n",
       "      <td>chr11</td>\n",
       "      <td>83553409</td>\n",
       "      <td>83555509</td>\n",
       "      <td>Ccl4</td>\n",
       "    </tr>\n",
       "    <tr>\n",
       "      <th>6</th>\n",
       "      <td>chr6</td>\n",
       "      <td>95449989</td>\n",
       "      <td>95695781</td>\n",
       "      <td>Suclg2</td>\n",
       "    </tr>\n",
       "    <tr>\n",
       "      <th>7</th>\n",
       "      <td>chr2</td>\n",
       "      <td>121978166</td>\n",
       "      <td>121983564</td>\n",
       "      <td>B2m</td>\n",
       "    </tr>\n",
       "  </tbody>\n",
       "</table>\n",
       "</div>"
      ],
      "text/plain": [
       "       0          1          2        3\n",
       "0  chr11   16921205   17002381     Plek\n",
       "1   chr8  120071226  120075661    Hsbp1\n",
       "2   chr7  102090901  102118978     Rrm1\n",
       "3  chr17   79226434   79244495    Cebpz\n",
       "4   chrX  133501927  133507809  Hnrnph2\n",
       "5  chr11   83553409   83555509     Ccl4\n",
       "6   chr6   95449989   95695781   Suclg2\n",
       "7   chr2  121978166  121983564      B2m"
      ]
     },
     "execution_count": 68,
     "metadata": {},
     "output_type": "execute_result"
    }
   ],
   "source": [
    "# load annotation gft\n",
    "anno_filepath = \"/lustre/bio_running/C_to_U_editing/refs/gencode.vM28.primary_assembly.annotation.gtf\"\n",
    "\n",
    "genes_coords = []\n",
    "\n",
    "with tqdm(total=len(genes)) as pbar:\n",
    "    for gene in genes:\n",
    "        with open(anno_filepath, \"r\") as anno:\n",
    "            for line in anno:\n",
    "                if not line.startswith(\"#\"):\n",
    "                    l = line.split(\"\\t\")\n",
    "                    if l[2] == \"gene\":\n",
    "                        if gene in line:\n",
    "                            if gene == (l[8].split(\"; \")[2].split(\" \")[1][1:-1]):\n",
    "                                # save to bed with coords (0 based right opened intervals)\n",
    "                                genes_coords.append([l[0], int(l[3])-1, int(l[4]), gene])\n",
    "        pbar.update(1)\n",
    "                            \n",
    "genes_coords = pd.DataFrame(genes_coords)\n",
    "genes_coords"
   ]
  },
  {
   "cell_type": "code",
   "execution_count": 69,
   "id": "1cd3c8f1",
   "metadata": {},
   "outputs": [
    {
     "name": "stdout",
     "output_type": "stream",
     "text": [
      "chr11\t16921205\t17002381\tPlek\r\n",
      "chr8\t120071226\t120075661\tHsbp1\r\n",
      "chr7\t102090901\t102118978\tRrm1\r\n",
      "chr17\t79226434\t79244495\tCebpz\r\n",
      "chrX\t133501927\t133507809\tHnrnph2\r\n",
      "chr11\t83553409\t83555509\tCcl4\r\n",
      "chr6\t95449989\t95695781\tSuclg2\r\n",
      "chr2\t121978166\t121983564\tB2m\r\n"
     ]
    }
   ],
   "source": [
    "# save as bed file (without headed)\n",
    "genes_coords.to_csv(\"reliable_murine_intervals_for_bam_subsampling.bed\", sep=\"\\t\", header=None, index=None)\n",
    "# visualize bed file generated\n",
    "!cat reliable_murine_intervals_for_bam_subsampling.bed"
   ]
  },
  {
   "cell_type": "code",
   "execution_count": 70,
   "id": "75283e88",
   "metadata": {},
   "outputs": [],
   "source": [
    "# extract sub bam files using the created bed file for wt and ko samples (murine)\n",
    "!samtools view -h -b -L reliable_murine_intervals_for_bam_subsampling.bed /lustre/bio_running/C_to_U_editing_minimap2_spliced/wt.bam > wt_murine_subsample.bam"
   ]
  },
  {
   "cell_type": "code",
   "execution_count": 71,
   "id": "eedc6bd3",
   "metadata": {},
   "outputs": [
    {
     "name": "stdout",
     "output_type": "stream",
     "text": [
      "-rw-r--r-- 1 afonzino biomed 2.2M Aug 23 16:35 wt_murine_subsample.bam\r\n"
     ]
    }
   ],
   "source": [
    "# view size on disk of generated bam file\n",
    "!ls -lh wt_murine_subsample.bam"
   ]
  },
  {
   "cell_type": "code",
   "execution_count": 72,
   "id": "819c69bc",
   "metadata": {},
   "outputs": [],
   "source": [
    "# index bam subsample file\n",
    "!samtools index wt_murine_subsample.bam"
   ]
  },
  {
   "cell_type": "code",
   "execution_count": 73,
   "id": "c81e3198",
   "metadata": {},
   "outputs": [
    {
     "name": "stdout",
     "output_type": "stream",
     "text": [
      "1725\r\n"
     ]
    }
   ],
   "source": [
    "# view total number of reads\n",
    "!samtools view wt_murine_subsample.bam | wc -l"
   ]
  },
  {
   "cell_type": "code",
   "execution_count": 74,
   "id": "94c7badd",
   "metadata": {},
   "outputs": [
    {
     "name": "stdout",
     "output_type": "stream",
     "text": [
      "   1321 0\r\n",
      "    400 16\r\n",
      "      4 2048\r\n"
     ]
    }
   ],
   "source": [
    "# view flags\n",
    "!samtools view wt_murine_subsample.bam | cut -f 2 | sort | uniq -c"
   ]
  },
  {
   "cell_type": "code",
   "execution_count": 75,
   "id": "7e2411cc",
   "metadata": {},
   "outputs": [
    {
     "name": "stdout",
     "output_type": "stream",
     "text": [
      "    283 chr11\r\n",
      "     96 chr17\r\n",
      "    940 chr2\r\n",
      "    120 chr6\r\n",
      "    136 chr7\r\n",
      "     88 chr8\r\n",
      "     62 chrX\r\n"
     ]
    }
   ],
   "source": [
    "# view regions\n",
    "!samtools view wt_murine_subsample.bam | cut -f 3 | sort | uniq -c "
   ]
  },
  {
   "cell_type": "code",
   "execution_count": 76,
   "id": "e378d20f",
   "metadata": {},
   "outputs": [],
   "source": [
    "# let's do the same thing for the ko sample\n",
    "!samtools view -h -b -L reliable_murine_intervals_for_bam_subsampling.bed /lustre/bio_running/C_to_U_editing_minimap2_spliced/ko.bam > ko_murine_subsample.bam\n",
    "!samtools index ko_murine_subsample.bam"
   ]
  },
  {
   "cell_type": "code",
   "execution_count": 77,
   "id": "a2a10b00",
   "metadata": {},
   "outputs": [
    {
     "name": "stdout",
     "output_type": "stream",
     "text": [
      "-rw-r--r-- 1 afonzino biomed 2.5M Aug 23 16:36 ko_murine_subsample.bam\r\n"
     ]
    }
   ],
   "source": [
    "# view size on disk of generated bam file\n",
    "!ls -lh ko_murine_subsample.bam"
   ]
  },
  {
   "cell_type": "code",
   "execution_count": 78,
   "id": "75f753f5",
   "metadata": {},
   "outputs": [
    {
     "name": "stdout",
     "output_type": "stream",
     "text": [
      "1851\r\n"
     ]
    }
   ],
   "source": [
    "!samtools view ko_murine_subsample.bam | wc -l"
   ]
  },
  {
   "cell_type": "code",
   "execution_count": 79,
   "id": "569253ae",
   "metadata": {},
   "outputs": [
    {
     "name": "stdout",
     "output_type": "stream",
     "text": [
      "   1386 0\r\n",
      "    465 16\r\n"
     ]
    }
   ],
   "source": [
    "!samtools view ko_murine_subsample.bam | cut -f 2 | sort | uniq -c "
   ]
  },
  {
   "cell_type": "code",
   "execution_count": 80,
   "id": "3e400e5d",
   "metadata": {},
   "outputs": [
    {
     "name": "stdout",
     "output_type": "stream",
     "text": [
      "    366 chr11\r\n",
      "    137 chr17\r\n",
      "    898 chr2\r\n",
      "    107 chr6\r\n",
      "    169 chr7\r\n",
      "    108 chr8\r\n",
      "     66 chrX\r\n"
     ]
    }
   ],
   "source": [
    "!samtools view ko_murine_subsample.bam | cut -f 3 | sort | uniq -c "
   ]
  },
  {
   "cell_type": "code",
   "execution_count": 81,
   "id": "4190ac82",
   "metadata": {},
   "outputs": [
    {
     "name": "stdout",
     "output_type": "stream",
     "text": [
      "1725\r\n"
     ]
    }
   ],
   "source": [
    "# extract read names for both the subsampled bam files\n",
    "!samtools view wt_murine_subsample.bam | cut -f 1 | sort -u > wt_murine_subsample.bam.readnames\n",
    "!cat wt_murine_subsample.bam.readnames | wc -l"
   ]
  },
  {
   "cell_type": "code",
   "execution_count": 82,
   "id": "df8be288",
   "metadata": {},
   "outputs": [
    {
     "name": "stdout",
     "output_type": "stream",
     "text": [
      "1851\r\n"
     ]
    }
   ],
   "source": [
    "!samtools view ko_murine_subsample.bam | cut -f 1 | sort -u > ko_murine_subsample.bam.readnames\n",
    "!cat ko_murine_subsample.bam.readnames | wc -l"
   ]
  },
  {
   "cell_type": "code",
   "execution_count": 83,
   "id": "fdaa41f2",
   "metadata": {},
   "outputs": [
    {
     "name": "stdout",
     "output_type": "stream",
     "text": [
      "DEBUG:h5py._conv:Creating converter from 5 to 3             |  0% ETA:  --:--:--\n",
      "| 2013 of 2013|##############################################|100% Time: 0:17:16\n",
      "INFO:Fast5Filter:1725 reads extracted\n"
     ]
    }
   ],
   "source": [
    "# extract fast5 using readnames lists for both samples\n",
    "!fast5_subset -i /lustre/bio_running/APOBEC_WT/workspace -s wt_murine_subsample.fast5 -l wt_murine_subsample.bam.readnames"
   ]
  },
  {
   "cell_type": "code",
   "execution_count": 84,
   "id": "84a6b090",
   "metadata": {},
   "outputs": [
    {
     "name": "stdout",
     "output_type": "stream",
     "text": [
      "DEBUG:h5py._conv:Creating converter from 5 to 3             |  0% ETA:  --:--:--\n",
      "| 2161 of 2161|##############################################|100% Time: 0:18:52\n",
      "INFO:Fast5Filter:1851 reads extracted\n"
     ]
    }
   ],
   "source": [
    "!fast5_subset -i /lustre/bio_running/APOBEC_KO/workspace -s ko_murine_subsample.fast5 -l ko_murine_subsample.bam.readnames"
   ]
  }
 ],
 "metadata": {
  "kernelspec": {
   "display_name": "Python 3 (ipykernel)",
   "language": "python",
   "name": "python3"
  },
  "language_info": {
   "codemirror_mode": {
    "name": "ipython",
    "version": 3
   },
   "file_extension": ".py",
   "mimetype": "text/x-python",
   "name": "python",
   "nbconvert_exporter": "python",
   "pygments_lexer": "ipython3",
   "version": "3.7.12"
  }
 },
 "nbformat": 4,
 "nbformat_minor": 5
}
