{
 "cells": [
  {
   "cell_type": "markdown",
   "id": "0cb0f2b1",
   "metadata": {},
   "source": [
    "## dbSnp153 tabix indexing (hg38) and tabix indexing of WT and OXP reditools tables\n",
    "Here the hg38 dbSNP database (from UCSC: https://hgdownload.soe.ucsc.edu/goldenPath/hg38/database/snp151.txt.gz  ) is converted to gtf, sorted, compressed and indexed using tabix as in Lo Giudice et a., 2020 protocol. In parallel, also reditools output tables for illumina samples were bgzipped and indexed by tabix."
   ]
  },
  {
   "cell_type": "code",
   "execution_count": 1,
   "id": "a27c3441",
   "metadata": {},
   "outputs": [
    {
     "name": "stdout",
     "output_type": "stream",
     "text": [
      "585\tchr1\t10019\t10020\trs775809821\t0\t+\tA\tA\t-/A\tgenomic\tdeletion\tunknown\t0\t0\tnear-gene-5\texact\t1\t\t1\tSSMP,\t0\t\t\t\t\r\n",
      "585\tchr1\t10038\t10039\trs978760828\t0\t+\tA\tA\tA/C\tgenomic\tsingle\tunknown\t0\t0\tnear-gene-5\texact\t1\t\t1\tUSC_VALOUEV,\t0\t\t\t\t\r\n",
      "585\tchr1\t10042\t10043\trs1008829651\t0\t+\tT\tT\tA/T\tgenomic\tsingle\tunknown\t0\t0\tnear-gene-5\texact\t1\t\t1\tUSC_VALOUEV,\t0\t\t\t\t\r\n",
      "585\tchr1\t10050\t10051\trs1052373574\t0\t+\tA\tA\tA/G\tgenomic\tsingle\tunknown\t0\t0\tnear-gene-5\texact\t1\t\t1\tUSC_VALOUEV,\t0\t\t\t\t\r\n",
      "585\tchr1\t10051\t10051\trs1326880612\t0\t+\t-\t-\t-/C\tgenomic\tinsertion\tunknown\t0\t0\tnear-gene-5\tbetween\t1\t\t1\tTOPMED,\t0\t\t\t\t\r\n",
      "585\tchr1\t10054\t10055\trs892501864\t0\t+\tT\tT\tA/T\tgenomic\tsingle\tunknown\t0\t0\tnear-gene-5\texact\t1\t\t1\tUSC_VALOUEV,\t0\t\t\t\t\r\n",
      "585\tchr1\t10055\t10055\trs768019142\t0\t+\t-\t-\t-/A\tgenomic\tinsertion\tunknown\t0\t0\tnear-gene-5\tbetween\t1\t\t1\tSSMP,\t0\t\t\t\t\r\n",
      "585\tchr1\t10062\t10063\trs1010989343\t0\t+\tA\tA\tA/C\tgenomic\tsingle\tunknown\t0\t0\tnear-gene-5\texact\t1\t\t1\tUSC_VALOUEV,\t0\t\t\t\t\r\n",
      "585\tchr1\t10067\t10067\trs1489251879\t0\t+\t-\t-\tlengthTooLong\tgenomic\tin-del\tunknown\t0\t0\tnear-gene-5\tbetween\t1\tObservedTooLong\t1\tGNOMAD,\t0\t\t\t\t\r\n",
      "585\tchr1\t10076\t10077\trs1022805358\t0\t+\tC\tC\tC/G\tgenomic\tsingle\tunknown\t0\t0\tnear-gene-5\texact\t1\t\t1\tUSC_VALOUEV,\t0\t\t\t\t\r\n",
      "cat: write error: Broken pipe\r\n"
     ]
    }
   ],
   "source": [
    "# visualize head of dbSnp153.bb downloaded file\n",
    "!cat /lustre/bio_running/refs/snp151.hg38.txt | head"
   ]
  },
  {
   "cell_type": "code",
   "execution_count": 2,
   "id": "ba419cb7",
   "metadata": {},
   "outputs": [],
   "source": [
    "# create a gtf\n",
    "!awk 'OFS=\"\\t\"{if ($11==\"genomic\" && $12==\"single\") print $2,\"ucsc_snp153_hg38\",\"snp\",$4,$4,\".\",$7,\".\",\"gene_id \\\"\"$5\"\\\"; transcript_id \\\"\"$5\"\\\";\"}' /lustre/bio_running/refs/snp151.hg38.txt > /lustre/bio_running/refs/snp151.hg38.gtf"
   ]
  },
  {
   "cell_type": "code",
   "execution_count": 3,
   "id": "63181948",
   "metadata": {},
   "outputs": [
    {
     "name": "stdout",
     "output_type": "stream",
     "text": [
      "chr1\tucsc_snp153_hg38\tsnp\t10039\t10039\t.\t+\t.\tgene_id \"rs978760828\"; transcript_id \"rs978760828\";\r\n",
      "chr1\tucsc_snp153_hg38\tsnp\t10043\t10043\t.\t+\t.\tgene_id \"rs1008829651\"; transcript_id \"rs1008829651\";\r\n",
      "chr1\tucsc_snp153_hg38\tsnp\t10051\t10051\t.\t+\t.\tgene_id \"rs1052373574\"; transcript_id \"rs1052373574\";\r\n",
      "chr1\tucsc_snp153_hg38\tsnp\t10055\t10055\t.\t+\t.\tgene_id \"rs892501864\"; transcript_id \"rs892501864\";\r\n",
      "chr1\tucsc_snp153_hg38\tsnp\t10063\t10063\t.\t+\t.\tgene_id \"rs1010989343\"; transcript_id \"rs1010989343\";\r\n",
      "chr1\tucsc_snp153_hg38\tsnp\t10077\t10077\t.\t+\t.\tgene_id \"rs1022805358\"; transcript_id \"rs1022805358\";\r\n",
      "chr1\tucsc_snp153_hg38\tsnp\t10108\t10108\t.\t+\t.\tgene_id \"rs62651026\"; transcript_id \"rs62651026\";\r\n",
      "chr1\tucsc_snp153_hg38\tsnp\t10109\t10109\t.\t+\t.\tgene_id \"rs376007522\"; transcript_id \"rs376007522\";\r\n",
      "chr1\tucsc_snp153_hg38\tsnp\t10120\t10120\t.\t+\t.\tgene_id \"rs1390810297\"; transcript_id \"rs1390810297\";\r\n",
      "chr1\tucsc_snp153_hg38\tsnp\t10132\t10132\t.\t+\t.\tgene_id \"rs1436069773\"; transcript_id \"rs1436069773\";\r\n",
      "cat: write error: Broken pipe\r\n"
     ]
    }
   ],
   "source": [
    "# visualize some rows\n",
    "!cat /lustre/bio_running/refs/snp151.hg38.gtf | head"
   ]
  },
  {
   "cell_type": "code",
   "execution_count": 4,
   "id": "25158231",
   "metadata": {},
   "outputs": [],
   "source": [
    "# sorting positions\n",
    "!sort -k1,1 -k4,4n /lustre/bio_running/refs/snp151.hg38.gtf > /lustre/bio_running/refs/snp151.hg38.sorted.gtf"
   ]
  },
  {
   "cell_type": "code",
   "execution_count": 6,
   "id": "e19d9ca1",
   "metadata": {},
   "outputs": [],
   "source": [
    "# compressing with bgzip\n",
    "!bgzip /lustre/bio_running/refs/snp151.hg38.sorted.gtf"
   ]
  },
  {
   "cell_type": "code",
   "execution_count": 8,
   "id": "c4b905a4",
   "metadata": {},
   "outputs": [],
   "source": [
    "# index as gff by tabix the sorted and compressed file\n",
    "!tabix -p gff /lustre/bio_running/refs/snp151.hg38.sorted.gtf.gz"
   ]
  },
  {
   "cell_type": "code",
   "execution_count": 11,
   "id": "92d13cdc",
   "metadata": {},
   "outputs": [
    {
     "name": "stdout",
     "output_type": "stream",
     "text": [
      "chr1\tucsc_snp153_hg38\tsnp\t10039\t10039\t.\t+\t.\tgene_id \"rs978760828\"; transcript_id \"rs978760828\";\r\n"
     ]
    }
   ],
   "source": [
    "# let's try to retrieve some snps from the indexed gtf file\n",
    "!tabix /lustre/bio_running/refs/snp151.hg38.sorted.gtf.gz chr1:10039-10039"
   ]
  },
  {
   "cell_type": "code",
   "execution_count": 12,
   "id": "7c3c88a8",
   "metadata": {},
   "outputs": [],
   "source": [
    "# remove unsorted\n",
    "!rm /lustre/bio_running/refs/snp151.hg38.gtf"
   ]
  },
  {
   "cell_type": "markdown",
   "id": "e4acb174",
   "metadata": {},
   "source": [
    "Now it's time to compress reditools outputs tables for illumina samples"
   ]
  },
  {
   "cell_type": "code",
   "execution_count": 1,
   "id": "0bbdc561",
   "metadata": {},
   "outputs": [],
   "source": [
    "!bgzip -c /lustre/bio_running/conticello/illumina/oxp1/DnaRna_470872555/outTable_470872555 > /lustre/bio_running/conticello/illumina/oxp1/DnaRna_470872555/outTable_470872555.gz"
   ]
  },
  {
   "cell_type": "code",
   "execution_count": 2,
   "id": "25d7f594",
   "metadata": {},
   "outputs": [],
   "source": [
    "!bgzip -c /lustre/bio_running/conticello/illumina/oxp2/DnaRna_73346045/outTable_73346045 > /lustre/bio_running/conticello/illumina/oxp2/DnaRna_73346045/outTable_73346045.gz"
   ]
  },
  {
   "cell_type": "code",
   "execution_count": 3,
   "id": "193379ae",
   "metadata": {},
   "outputs": [],
   "source": [
    "!bgzip -c /lustre/bio_running/conticello/illumina/oxp3/DnaRna_808842865/outTable_808842865 > /lustre/bio_running/conticello/illumina/oxp3/DnaRna_808842865/outTable_808842865.gz"
   ]
  },
  {
   "cell_type": "code",
   "execution_count": 5,
   "id": "a2716fab",
   "metadata": {},
   "outputs": [],
   "source": [
    "!bgzip -c /lustre/bio_running/conticello/illumina/wt1/DnaRna_505821894/outTable_505821894 > /lustre/bio_running/conticello/illumina/wt1/DnaRna_505821894/outTable_505821894.gz"
   ]
  },
  {
   "cell_type": "code",
   "execution_count": 6,
   "id": "b72cdc34",
   "metadata": {},
   "outputs": [],
   "source": [
    "!bgzip -c /lustre/bio_running/conticello/illumina/wt2/DnaRna_83292749/outTable_83292749 > /lustre/bio_running/conticello/illumina/wt2/DnaRna_83292749/outTable_83292749.gz"
   ]
  },
  {
   "cell_type": "code",
   "execution_count": 7,
   "id": "35d488bb",
   "metadata": {},
   "outputs": [],
   "source": [
    "!bgzip -c /lustre/bio_running/conticello/illumina/wt3/DnaRna_296402424/outTable_296402424 > /lustre/bio_running/conticello/illumina/wt3/DnaRna_296402424/outTable_296402424.gz"
   ]
  },
  {
   "cell_type": "markdown",
   "id": "2d99953a",
   "metadata": {},
   "source": [
    "indexing reditools compressed tables with tabix"
   ]
  },
  {
   "cell_type": "code",
   "execution_count": 33,
   "id": "1ba618a7",
   "metadata": {},
   "outputs": [
    {
     "name": "stdout",
     "output_type": "stream",
     "text": [
      "Region\tPosition\tReference\tStrand\tCoverage-q30\tMeanQ\tBaseCount[A,C,G,T]\tAllSubs\tFrequency\tgCoverage-q0\tgMeanQ\tgBaseCount[A,C,G,T]\tgAllSubs\tgFrequency\r\n",
      "chrY\t2667118\tA\t1\t1\t37.00\t[1, 0, 0, 0]\t-\t0.00\t-\t-\t-\t-\t-\r\n",
      "chrY\t2667119\tT\t1\t1\t37.00\t[0, 0, 0, 1]\t-\t0.00\t-\t-\t-\t-\t-\r\n",
      "chrY\t2667120\tT\t1\t1\t37.00\t[0, 0, 0, 1]\t-\t0.00\t-\t-\t-\t-\t-\r\n",
      "chrY\t2667121\tT\t1\t1\t37.00\t[0, 0, 0, 1]\t-\t0.00\t-\t-\t-\t-\t-\r\n",
      "chrY\t2667122\tA\t1\t1\t37.00\t[1, 0, 0, 0]\t-\t0.00\t-\t-\t-\t-\t-\r\n",
      "chrY\t2667123\tA\t1\t1\t37.00\t[1, 0, 0, 0]\t-\t0.00\t-\t-\t-\t-\t-\r\n",
      "chrY\t2667124\tC\t1\t1\t37.00\t[0, 1, 0, 0]\t-\t0.00\t-\t-\t-\t-\t-\r\n",
      "chrY\t2667125\tC\t1\t1\t37.00\t[0, 1, 0, 0]\t-\t0.00\t-\t-\t-\t-\t-\r\n",
      "chrY\t2667126\tT\t1\t1\t37.00\t[0, 0, 0, 1]\t-\t0.00\t-\t-\t-\t-\t-\r\n",
      "\r\n",
      "gzip: stdout: Broken pipe\r\n"
     ]
    }
   ],
   "source": [
    "!zcat /lustre/bio_running/conticello/illumina/oxp1/DnaRna_*/outTable_*.gz | head"
   ]
  },
  {
   "cell_type": "code",
   "execution_count": 36,
   "id": "4b5b4a9f",
   "metadata": {},
   "outputs": [],
   "source": [
    "# launch the first indexing with tabix for oxp1 sample\n",
    "!tabix -s 1 -b 2 -e 2 -c R -f /lustre/bio_running/conticello/illumina/oxp1/DnaRna_470872555/outTable_470872555.gz"
   ]
  },
  {
   "cell_type": "code",
   "execution_count": 37,
   "id": "c87eb245",
   "metadata": {},
   "outputs": [
    {
     "name": "stdout",
     "output_type": "stream",
     "text": [
      "chrY\t2667120\tT\t1\t1\t37.00\t[0, 0, 0, 1]\t-\t0.00\t-\t-\t-\t-\t-\r\n",
      "chrY\t2667121\tT\t1\t1\t37.00\t[0, 0, 0, 1]\t-\t0.00\t-\t-\t-\t-\t-\r\n",
      "chrY\t2667122\tA\t1\t1\t37.00\t[1, 0, 0, 0]\t-\t0.00\t-\t-\t-\t-\t-\r\n",
      "chrY\t2667123\tA\t1\t1\t37.00\t[1, 0, 0, 0]\t-\t0.00\t-\t-\t-\t-\t-\r\n",
      "chrY\t2667124\tC\t1\t1\t37.00\t[0, 1, 0, 0]\t-\t0.00\t-\t-\t-\t-\t-\r\n"
     ]
    }
   ],
   "source": [
    "!tabix /lustre/bio_running/conticello/illumina/oxp1/DnaRna_470872555/outTable_470872555.gz chrY:2667120-2667124"
   ]
  },
  {
   "cell_type": "code",
   "execution_count": 13,
   "id": "106e6db4",
   "metadata": {},
   "outputs": [],
   "source": [
    "# continue with the other compressed files\n",
    "!tabix -s 1 -b 2 -e 2 -c R -f /lustre/bio_running/conticello/illumina/oxp2/DnaRna_*/outTable_*.gz"
   ]
  },
  {
   "cell_type": "code",
   "execution_count": 14,
   "id": "28d72390",
   "metadata": {},
   "outputs": [],
   "source": [
    "!tabix -s 1 -b 2 -e 2 -c R -f /lustre/bio_running/conticello/illumina/oxp3/DnaRna_*/outTable_*.gz"
   ]
  },
  {
   "cell_type": "code",
   "execution_count": 15,
   "id": "49698512",
   "metadata": {},
   "outputs": [],
   "source": [
    "!tabix -s 1 -b 2 -e 2 -c R -f /lustre/bio_running/conticello/illumina/wt1/DnaRna_*/outTable_*.gz"
   ]
  },
  {
   "cell_type": "code",
   "execution_count": 16,
   "id": "d8399cf8",
   "metadata": {},
   "outputs": [],
   "source": [
    "!tabix -s 1 -b 2 -e 2 -c R -f /lustre/bio_running/conticello/illumina/wt2/DnaRna_*/outTable_*.gz"
   ]
  },
  {
   "cell_type": "code",
   "execution_count": 17,
   "id": "406e590c",
   "metadata": {},
   "outputs": [],
   "source": [
    "!tabix -s 1 -b 2 -e 2 -c R -f /lustre/bio_running/conticello/illumina/wt3/DnaRna_*/outTable_*.gz"
   ]
  },
  {
   "cell_type": "markdown",
   "id": "a4346883",
   "metadata": {},
   "source": [
    "These indexed files will be used in the notebook named *\"Analysis_merged_EdSites_merged_wt_oxp\"* for the filtering of wt and oxp samples common sites (separately). This in order to assess if sites after the correction in wt are more frequently SNPs (as expected) with respect to the oxp ones."
   ]
  }
 ],
 "metadata": {
  "kernelspec": {
   "display_name": "Python 3 (ipykernel)",
   "language": "python",
   "name": "python3"
  },
  "language_info": {
   "codemirror_mode": {
    "name": "ipython",
    "version": 3
   },
   "file_extension": ".py",
   "mimetype": "text/x-python",
   "name": "python",
   "nbconvert_exporter": "python",
   "pygments_lexer": "ipython3",
   "version": "3.10.0"
  }
 },
 "nbformat": 4,
 "nbformat_minor": 5
}
