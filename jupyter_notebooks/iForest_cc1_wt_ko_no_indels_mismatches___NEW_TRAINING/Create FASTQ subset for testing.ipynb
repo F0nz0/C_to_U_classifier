{
 "cells": [
  {
   "cell_type": "code",
   "execution_count": 6,
   "id": "c40b86d1",
   "metadata": {},
   "outputs": [
    {
     "name": "stdout",
     "output_type": "stream",
     "text": [
      "2668\r\n"
     ]
    }
   ],
   "source": [
    "# oxp4 subsample human\n",
    "!seqtk subseq /lustre/bio_running/conticello/oxp4/oxp4.fastq oxp4subsample.bam.readnames > oxp4subsample.fastq\n",
    "!cat oxp4subsample.fastq | wc -l"
   ]
  },
  {
   "cell_type": "code",
   "execution_count": 7,
   "id": "e3ddb1c2",
   "metadata": {},
   "outputs": [
    {
     "name": "stdout",
     "output_type": "stream",
     "text": [
      "23432\r\n"
     ]
    }
   ],
   "source": [
    "# wt4 subsample human\n",
    "!seqtk subseq /lustre/bio_running/conticello/wt4/wt4.fastq wt4subsample.bam.readnames > wt4subsample.fastq\n",
    "!cat wt4subsample.fastq | wc -l"
   ]
  },
  {
   "cell_type": "code",
   "execution_count": 8,
   "id": "be642c4d",
   "metadata": {},
   "outputs": [
    {
     "name": "stdout",
     "output_type": "stream",
     "text": [
      "6900\r\n"
     ]
    }
   ],
   "source": [
    "# wt subsample murine\n",
    "!seqtk subseq /lustre/bio_running/C_to_U_editing_minimap2_spliced/wt.fastq wt_murine_subsample.bam.readnames > wt_murine_subsample.fastq\n",
    "!cat wt_murine_subsample.fastq | wc -l"
   ]
  },
  {
   "cell_type": "code",
   "execution_count": 9,
   "id": "51d805d9",
   "metadata": {},
   "outputs": [
    {
     "name": "stdout",
     "output_type": "stream",
     "text": [
      "7404\r\n"
     ]
    }
   ],
   "source": [
    "# ko subsample murine\n",
    "!seqtk subseq /lustre/bio_running/C_to_U_editing_minimap2_spliced/ko.fastq ko_murine_subsample.bam.readnames > ko_murine_subsample.fastq\n",
    "!cat ko_murine_subsample.fastq | wc -l"
   ]
  }
 ],
 "metadata": {
  "kernelspec": {
   "display_name": "Python 3 (ipykernel)",
   "language": "python",
   "name": "python3"
  },
  "language_info": {
   "codemirror_mode": {
    "name": "ipython",
    "version": 3
   },
   "file_extension": ".py",
   "mimetype": "text/x-python",
   "name": "python",
   "nbconvert_exporter": "python",
   "pygments_lexer": "ipython3",
   "version": "3.7.12"
  }
 },
 "nbformat": 4,
 "nbformat_minor": 5
}
