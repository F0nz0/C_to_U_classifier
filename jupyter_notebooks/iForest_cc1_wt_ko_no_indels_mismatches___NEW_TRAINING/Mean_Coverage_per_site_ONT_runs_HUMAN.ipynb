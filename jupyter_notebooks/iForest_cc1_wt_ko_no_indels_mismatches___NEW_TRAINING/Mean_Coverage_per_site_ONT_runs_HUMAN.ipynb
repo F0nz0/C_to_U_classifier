{
 "cells": [
  {
   "cell_type": "markdown",
   "id": "7160b322",
   "metadata": {},
   "source": [
    "## Mean Depth Human runs\n",
    "Calculating via samtools depth, the mean depth for each run of the human datasets."
   ]
  },
  {
   "cell_type": "code",
   "execution_count": 1,
   "id": "6ac48ec3",
   "metadata": {},
   "outputs": [
    {
     "name": "stdout",
     "output_type": "stream",
     "text": [
      "403525066 436840755 0.923735\r\n"
     ]
    }
   ],
   "source": [
    "!/lustrehome/afonzino/samtools-1.13/samtools depth /lustre/bio_running/conticello/oxp1/oxp1.bam | awk '{cv+=$3; p+=1} END {print cv,p,cv/p}'"
   ]
  },
  {
   "cell_type": "code",
   "execution_count": 3,
   "id": "c3d28928",
   "metadata": {},
   "outputs": [
    {
     "name": "stdout",
     "output_type": "stream",
     "text": [
      "563188424 291850831 1.92971\r\n"
     ]
    }
   ],
   "source": [
    "!/lustrehome/afonzino/samtools-1.13/samtools depth /lustre/bio_running/conticello/oxp2/oxp2.bam | awk '{cv+=$3; p+=1} END {print cv,p,cv/p}'"
   ]
  },
  {
   "cell_type": "code",
   "execution_count": 4,
   "id": "81144a61",
   "metadata": {},
   "outputs": [
    {
     "name": "stdout",
     "output_type": "stream",
     "text": [
      "119378140 213091164 0.560221\r\n"
     ]
    }
   ],
   "source": [
    "!/lustrehome/afonzino/samtools-1.13/samtools depth /lustre/bio_running/conticello/oxp3/oxp3.bam | awk '{cv+=$3; p+=1} END {print cv,p,cv/p}'"
   ]
  },
  {
   "cell_type": "code",
   "execution_count": 5,
   "id": "876eab0a",
   "metadata": {},
   "outputs": [
    {
     "name": "stdout",
     "output_type": "stream",
     "text": [
      "173830053 259560957 0.669708\r\n"
     ]
    }
   ],
   "source": [
    "!/lustrehome/afonzino/samtools-1.13/samtools depth /lustre/bio_running/conticello/oxp4/oxp4.bam | awk '{cv+=$3; p+=1} END {print cv,p,cv/p}'"
   ]
  },
  {
   "cell_type": "code",
   "execution_count": 6,
   "id": "e3e37f24",
   "metadata": {},
   "outputs": [
    {
     "name": "stdout",
     "output_type": "stream",
     "text": [
      "2294609047 830006409 2.76457\r\n"
     ]
    }
   ],
   "source": [
    "!/lustrehome/afonzino/samtools-1.13/samtools depth /lustre/bio_running/conticello/wt1/wt1.bam | awk '{cv+=$3; p+=1} END {print cv,p,cv/p}'"
   ]
  },
  {
   "cell_type": "code",
   "execution_count": 7,
   "id": "13d0fa7b",
   "metadata": {},
   "outputs": [
    {
     "name": "stdout",
     "output_type": "stream",
     "text": [
      "89086 766815 0.116177\r\n"
     ]
    }
   ],
   "source": [
    "!/lustrehome/afonzino/samtools-1.13/samtools depth /lustre/bio_running/conticello/wt2/wt2.bam | awk '{cv+=$3; p+=1} END {print cv,p,cv/p}'"
   ]
  },
  {
   "cell_type": "code",
   "execution_count": 8,
   "id": "6e1662bd",
   "metadata": {},
   "outputs": [
    {
     "name": "stdout",
     "output_type": "stream",
     "text": [
      "45162 95812 0.471361\r\n"
     ]
    }
   ],
   "source": [
    "!/lustrehome/afonzino/samtools-1.13/samtools depth /lustre/bio_running/conticello/wt3/wt3.bam | awk '{cv+=$3; p+=1} END {print cv,p,cv/p}'"
   ]
  },
  {
   "cell_type": "code",
   "execution_count": 10,
   "id": "afc45ec0",
   "metadata": {},
   "outputs": [
    {
     "name": "stdout",
     "output_type": "stream",
     "text": [
      "1188350850 660629414 1.79882\r\n"
     ]
    }
   ],
   "source": [
    "!/lustrehome/afonzino/samtools-1.13/samtools depth /lustre/bio_running/conticello/wt4/wt4.bam | awk '{cv+=$3; p+=1} END {print cv,p,cv/p}'"
   ]
  },
  {
   "cell_type": "markdown",
   "id": "97964014",
   "metadata": {},
   "source": [
    "### Calculate n° of reads per experiment\n",
    "Filtering out flag 4 reads (unmapped)"
   ]
  },
  {
   "cell_type": "code",
   "execution_count": 12,
   "id": "c5d9e099",
   "metadata": {},
   "outputs": [
    {
     "name": "stdout",
     "output_type": "stream",
     "text": [
      "541206\r\n"
     ]
    }
   ],
   "source": [
    "!/lustrehome/afonzino/samtools-1.13/samtools view -F 4 /lustre/bio_running/conticello/oxp1/oxp1.bam | wc -l"
   ]
  },
  {
   "cell_type": "code",
   "execution_count": 13,
   "id": "e02f4b2e",
   "metadata": {},
   "outputs": [
    {
     "name": "stdout",
     "output_type": "stream",
     "text": [
      "778954\r\n"
     ]
    }
   ],
   "source": [
    "!/lustrehome/afonzino/samtools-1.13/samtools view -F 4 /lustre/bio_running/conticello/oxp2/oxp2.bam | wc -l"
   ]
  },
  {
   "cell_type": "code",
   "execution_count": 14,
   "id": "dcab178f",
   "metadata": {},
   "outputs": [
    {
     "name": "stdout",
     "output_type": "stream",
     "text": [
      "156538\r\n"
     ]
    }
   ],
   "source": [
    "!/lustrehome/afonzino/samtools-1.13/samtools view -F 4 /lustre/bio_running/conticello/oxp3/oxp3.bam | wc -l"
   ]
  },
  {
   "cell_type": "code",
   "execution_count": 15,
   "id": "39c9b8fa",
   "metadata": {},
   "outputs": [
    {
     "name": "stdout",
     "output_type": "stream",
     "text": [
      "226896\r\n"
     ]
    }
   ],
   "source": [
    "!/lustrehome/afonzino/samtools-1.13/samtools view -F 4 /lustre/bio_running/conticello/oxp4/oxp4.bam | wc -l"
   ]
  },
  {
   "cell_type": "code",
   "execution_count": 16,
   "id": "dd593c11",
   "metadata": {},
   "outputs": [
    {
     "name": "stdout",
     "output_type": "stream",
     "text": [
      "2218879\r\n"
     ]
    }
   ],
   "source": [
    "!/lustrehome/afonzino/samtools-1.13/samtools view -F 4 /lustre/bio_running/conticello/wt1/wt1.bam | wc -l"
   ]
  },
  {
   "cell_type": "code",
   "execution_count": 17,
   "id": "0b4c24f9",
   "metadata": {},
   "outputs": [
    {
     "name": "stdout",
     "output_type": "stream",
     "text": [
      "204\r\n"
     ]
    }
   ],
   "source": [
    "!/lustrehome/afonzino/samtools-1.13/samtools view -F 4 /lustre/bio_running/conticello/wt2/wt2.bam | wc -l"
   ]
  },
  {
   "cell_type": "code",
   "execution_count": 18,
   "id": "303e4b0a",
   "metadata": {},
   "outputs": [
    {
     "name": "stdout",
     "output_type": "stream",
     "text": [
      "100\r\n"
     ]
    }
   ],
   "source": [
    "!/lustrehome/afonzino/samtools-1.13/samtools view -F 4 /lustre/bio_running/conticello/wt3/wt3.bam | wc -l"
   ]
  },
  {
   "cell_type": "code",
   "execution_count": 19,
   "id": "5e760fcd",
   "metadata": {},
   "outputs": [
    {
     "name": "stdout",
     "output_type": "stream",
     "text": [
      "1311619\r\n"
     ]
    }
   ],
   "source": [
    "!/lustrehome/afonzino/samtools-1.13/samtools view -F 4 /lustre/bio_running/conticello/wt4/wt4.bam | wc -l"
   ]
  }
 ],
 "metadata": {
  "kernelspec": {
   "display_name": "Python 3 (ipykernel)",
   "language": "python",
   "name": "python3"
  },
  "language_info": {
   "codemirror_mode": {
    "name": "ipython",
    "version": 3
   },
   "file_extension": ".py",
   "mimetype": "text/x-python",
   "name": "python",
   "nbconvert_exporter": "python",
   "pygments_lexer": "ipython3",
   "version": "3.7.12"
  }
 },
 "nbformat": 4,
 "nbformat_minor": 5
}
