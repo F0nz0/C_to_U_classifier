{
 "cells": [
  {
   "cell_type": "code",
   "execution_count": 1,
   "id": "c0c42371",
   "metadata": {},
   "outputs": [],
   "source": [
    "## import basic modules\n",
    "import os,sys\n",
    "import numpy as np\n",
    "import pandas as pd\n",
    "from scipy.stats import chi2\n",
    "import pysam\n",
    "from tqdm import tqdm\n",
    "\n",
    "# add parent folder of the C_to_U_classifier_plus_min package to path in order to be loaded into the current session\n",
    "sys.path.append(\"/lustrehome/afonzino\")\n",
    "\n",
    "from C_to_U_classifier_plus_min.utils import get_rev_compl"
   ]
  },
  {
   "cell_type": "code",
   "execution_count": 2,
   "id": "b51677af",
   "metadata": {},
   "outputs": [],
   "source": [
    "# define reference, H0 and H1 models filepaths\n",
    "ref_filepath = \"/lustre/bio_running/refs/GRCh38.primary_assembly.genome.filtered.fa\"\n",
    "H0_filepath = \"/lustre/bio_running/CtoUclassifier_new_model_training23052022/src_jupyter_notebooks/iForest_cc1_wt_ko_no_indels_mismatches___NEW_TRAINING/illumina_ref_model/No_Editing_Sites_Consensus.txt\"\n",
    "H1_filepath = \"/lustre/bio_running/CtoUclassifier_new_model_training23052022/src_jupyter_notebooks/iForest_cc1_wt_ko_no_indels_mismatches___NEW_TRAINING/illumina_ref_model/Editing_Sites_Consensus.txt\""
   ]
  },
  {
   "cell_type": "code",
   "execution_count": 3,
   "id": "a5412bb9",
   "metadata": {},
   "outputs": [],
   "source": [
    "h0 = pd.read_table(H0_filepath, index_col=0)\n",
    "h1 = pd.read_table(H1_filepath, index_col=0)"
   ]
  },
  {
   "cell_type": "code",
   "execution_count": 5,
   "id": "82e8cd01",
   "metadata": {
    "scrolled": false
   },
   "outputs": [
    {
     "name": "stdout",
     "output_type": "stream",
     "text": [
      "H0 model matrix\n",
      "          0         1         2         3         4         5         6  \\\n",
      "A  0.252602  0.247975  0.257440  0.252242  0.246170  0.253879  0.252672   \n",
      "C  0.239713  0.249461  0.235333  0.237904  0.250073  0.239440  0.240814   \n",
      "G  0.238271  0.240898  0.238495  0.241357  0.244064  0.239258  0.241000   \n",
      "T  0.269413  0.261666  0.268731  0.268497  0.259693  0.267423  0.265513   \n",
      "\n",
      "          7         8         9  ...        41        42        43        44  \\\n",
      "A  0.245187  0.255523  0.254729  ...  0.265800  0.262512  0.254205  0.264467   \n",
      "C  0.251557  0.240535  0.240776  ...  0.233990  0.233780  0.245292  0.232105   \n",
      "G  0.242731  0.240682  0.244176  ...  0.247719  0.250210  0.251595  0.247013   \n",
      "T  0.260525  0.263261  0.260319  ...  0.252491  0.253498  0.248909  0.256415   \n",
      "\n",
      "         45        46        47        48        49        50  \n",
      "A  0.260008  0.255041  0.265657  0.263352  0.255404  0.266164  \n",
      "C  0.232976  0.243022  0.232280  0.230275  0.242829  0.232475  \n",
      "G  0.250812  0.251773  0.246401  0.249713  0.250115  0.245442  \n",
      "T  0.256205  0.250164  0.255663  0.256660  0.251651  0.255918  \n",
      "\n",
      "[4 rows x 51 columns]\n",
      "\n",
      "H1 model matrix\n",
      "          0         1         2         3         4         5         6  \\\n",
      "A  0.318132  0.312500  0.317308  0.322115  0.328022  0.330769  0.324038   \n",
      "C  0.146703  0.155769  0.155907  0.159341  0.149176  0.150137  0.152473   \n",
      "G  0.178297  0.183516  0.169780  0.172527  0.174313  0.171016  0.172665   \n",
      "T  0.356868  0.348214  0.357005  0.346016  0.348489  0.348077  0.350824   \n",
      "\n",
      "          7         8         9  ...        41        42        43        44  \\\n",
      "A  0.325687  0.324451  0.332280  ...  0.324451  0.331731  0.314973  0.327198   \n",
      "C  0.147115  0.153846  0.143132  ...  0.140659  0.139560  0.147115  0.150687   \n",
      "G  0.176511  0.174588  0.175137  ...  0.164148  0.173352  0.176236  0.171566   \n",
      "T  0.350687  0.347115  0.349451  ...  0.370742  0.355357  0.361676  0.350549   \n",
      "\n",
      "         45        46        47        48        49        50  \n",
      "A  0.322802  0.324038  0.316621  0.312088  0.326099  0.321429  \n",
      "C  0.145330  0.152335  0.146016  0.151511  0.146841  0.151374  \n",
      "G  0.171703  0.170467  0.188324  0.178984  0.173901  0.174588  \n",
      "T  0.360165  0.353159  0.349038  0.357418  0.353159  0.352610  \n",
      "\n",
      "[4 rows x 51 columns]\n",
      "0 T 0.2694134683997705 0.3568681318681319\n",
      "1 C 0.2494613199759343 0.1557692307692307\n",
      "2 C 0.2353332120720292 0.1559065934065934\n",
      "3 A 0.2522421681521176 0.3221153846153846\n",
      "4 A 0.2461697751535587 0.328021978021978\n",
      "5 T 0.2674231506485148 0.348076923076923\n",
      "6 A 0.2526724125869233 0.3240384615384615\n",
      "7 A 0.2451868590057505 0.3256868131868132\n",
      "8 A 0.2555232192077906 0.3244505494505494\n",
      "9 T 0.260318870590869 0.3494505494505494\n",
      "10 A 0.2485413664283415 0.3115384615384615\n",
      "11 T 0.2601159911012858 0.3526098901098901\n",
      "12 C 0.2408039624463069 0.1578296703296703\n",
      "13 A 0.2489541212519763 0.2921703296703297\n",
      "14 G 0.2394502665416742 0.1653846153846153\n",
      "15 T 0.2552888584180997 0.3418956043956044\n",
      "16 G 0.2430881056652348 0.168543956043956\n",
      "17 C 0.2434134124330148 0.1527472527472527\n",
      "18 A 0.2591295770312434 0.2718406593406593\n",
      "19 G 0.2402932658001147 0.2037087912087912\n",
      "20 C 0.2430706160540638 0.1049450549450549\n",
      "21 C 0.2368862895440108 0.0708791208791208\n",
      "22 T 0.2562682766436736 0.1254120879120879\n",
      "23 G 0.2461802689202613 0.0957417582417582\n",
      "24 G 0.2534139721005722 0.0881868131868131\n",
      "25 C 1.0 1.0\n",
      "26 A 0.3427019350505799 0.4\n",
      "27 T 0.2599096136894684 0.2446428571428571\n",
      "28 T 0.2467049572553903 0.3276098901098901\n",
      "29 T 0.2508954680919534 0.3120879120879121\n",
      "30 G 0.2515950525387919 0.1751373626373626\n",
      "31 G 0.2465055756880413 0.1803571428571428\n",
      "32 G 0.2463621608764394 0.1579670329670329\n",
      "33 G 0.2461872647647297 0.1431318681318681\n",
      "34 C 0.2529242629877852 0.1403846153846153\n",
      "35 C 0.2366414349876173 0.1469780219780219\n",
      "36 A 0.2612947908942088 0.3225274725274725\n",
      "37 C 0.2497411537546697 0.1364010989010989\n",
      "38 T 0.251542583705279 0.3918956043956044\n",
      "39 A 0.2637608260693148 0.3035714285714285\n",
      "40 C 0.2458514642302472 0.1440934065934065\n",
      "41 T 0.2524905206307453 0.3707417582417582\n",
      "42 G 0.2502098753340516 0.1733516483516483\n",
      "43 G 0.2515950525387919 0.1762362637362637\n",
      "44 T 0.2564151893775097 0.3505494505494505\n",
      "45 C 0.2329756124861832 0.1453296703296703\n",
      "46 T 0.2501644023450071 0.3531593406593407\n",
      "47 C 0.2322795259615788 0.1460164835164835\n",
      "48 C 0.2302752165213863 0.151510989010989\n",
      "49 G 0.2501154314337284 0.1739010989010989\n",
      "50 C 0.2324754096066936 0.1513736263736263\n",
      "H0 product: 8.488748568548983e-31\n",
      "H1 product: 1.618715549674249e-34\n",
      "llr: -17.129727807228146\n",
      "P-value via Chi-2 test: 1.0\n"
     ]
    },
    {
     "data": {
      "text/plain": [
       "1.0"
      ]
     },
     "execution_count": 5,
     "metadata": {},
     "output_type": "execute_result"
    }
   ],
   "source": [
    "def compute_apobec1_signature_pvalue(ref_filepath, H0_filepath, H1_filepath, region, pos1based, strand, verbosity=0):\n",
    "    ref = pysam.FastaFile(ref_filepath)\n",
    "    h0 = pd.read_table(H0_filepath, index_col=0)\n",
    "    h1 = pd.read_table(H1_filepath, index_col=0)\n",
    "    \n",
    "    if verbosity > 2:\n",
    "        print(\"H0 model matrix\")\n",
    "        print(h0)\n",
    "        print()\n",
    "        print(\"H1 model matrix\")\n",
    "        print(h1)\n",
    "    \n",
    "    if h0.shape[1] == h1.shape[1]:\n",
    "        interval = int((h0.shape[1]-1)/2)\n",
    "        \n",
    "    pos0based=pos1based-1\n",
    "    start = pos0based-interval\n",
    "    stop = pos0based+interval+1\n",
    "    \n",
    "    # get query position sequence of reference\n",
    "    # assert if strand is correct (either + or -)\n",
    "    if not (strand == \"+\" or strand == \"-\"):\n",
    "        print(\"ops! Strange strand!\")\n",
    "        \n",
    "    # load reference sequence interval around central base position\n",
    "    reference = ref.fetch(region, start, stop)\n",
    "    \n",
    "    if strand == \"-\":\n",
    "        reference = get_rev_compl(reference)\n",
    "        \n",
    "    if reference[interval] == \"C\":\n",
    "        if len(reference) == (interval*2)+1:\n",
    "            h0_probs = []\n",
    "            h1_probs = []\n",
    "            for rel_pos, ref_base in enumerate(reference):\n",
    "                if verbosity > 1:\n",
    "                    print(rel_pos, ref_base, h0.loc[ref_base, str(rel_pos)], h1.loc[ref_base, str(rel_pos)])\n",
    "                h0_probs.append(h0.loc[ref_base, str(rel_pos)])\n",
    "                h1_probs.append(h1.loc[ref_base, str(rel_pos)])\n",
    "\n",
    "            h0_probs_prod = np.prod(h0_probs)\n",
    "            h1_probs_prod = np.prod(h1_probs)\n",
    "            llr = -2*np.log(h0_probs_prod/h1_probs_prod)\n",
    "            pvalue = chi2.sf(llr, 1)\n",
    "            \n",
    "            if verbosity > 0:\n",
    "                print(\"H0 product:\", h0_probs_prod)\n",
    "                print(\"H1 product:\", h1_probs_prod)\n",
    "                print(\"llr:\", llr)\n",
    "                print(\"P-value via Chi-2 test:\", pvalue)\n",
    "\n",
    "            ref.close()\n",
    "\n",
    "            return pvalue\n",
    "        else:\n",
    "            print(f\"OPS! Given position {region}:{pos1based} ({strand}) generated an interval too short! Something got wrong!\")\n",
    "            return None\n",
    "    else:\n",
    "        print(f\"OPS! Wrong position {region}:{pos1based} ({strand}) provided: No C central base! Base found: {reference[interval]}\")\n",
    "        return None\n",
    "    \n",
    "# compute example site on \n",
    "compute_apobec1_signature_pvalue(ref_filepath, H0_filepath, H1_filepath, \"chr8\", 145055960, \"+\", verbosity=3)"
   ]
  },
  {
   "cell_type": "code",
   "execution_count": 8,
   "id": "255a7c77",
   "metadata": {},
   "outputs": [
    {
     "name": "stdout",
     "output_type": "stream",
     "text": [
      "0 T 0.2694134683997705 0.3568681318681319\n",
      "1 G 0.2408984063466301 0.1835164835164835\n",
      "2 T 0.2687313735641029 0.3570054945054945\n",
      "3 T 0.268497012774412 0.3460164835164835\n",
      "4 T 0.2596927425109485 0.3484890109890109\n",
      "5 A 0.2538791957577199 0.3307692307692307\n",
      "6 A 0.2526724125869233 0.3240384615384615\n",
      "7 A 0.2451868590057505 0.3256868131868132\n",
      "8 G 0.2406815351681101 0.174587912087912\n",
      "9 A 0.2547291908606288 0.3322802197802197\n",
      "10 G 0.2471491933791328 0.1760989010989011\n",
      "11 A 0.2566040771781562 0.3269230769230769\n",
      "12 A 0.2564536665220859 0.3075549450549451\n",
      "13 C 0.2556421485637531 0.1723901098901099\n",
      "14 A 0.2624421093870241 0.3041208791208791\n",
      "15 G 0.2462397335982426 0.1791208791208791\n",
      "16 T 0.2500104937667026 0.3605769230769231\n",
      "17 T 0.2557645758419499 0.3803571428571428\n",
      "18 C 0.246264219053882 0.1361263736263736\n",
      "19 G 0.2402932658001147 0.2037087912087912\n",
      "20 C 0.2430706160540638 0.1049450549450549\n",
      "21 A 0.2638797554252773 0.4582417582417582\n",
      "22 A 0.2434413958108883 0.7695054945054945\n",
      "23 T 0.2729638594674763 0.3616758241758241\n",
      "24 A 0.1819933959228218 0.8932692307692308\n",
      "25 C 1.0 1.0\n",
      "26 A 0.3427019350505799 0.4\n",
      "27 A 0.2342943291684739 0.5024725274725275\n",
      "28 A 0.2459039330637601 0.3304945054945055\n",
      "29 A 0.2610604301045179 0.3425824175824176\n",
      "30 A 0.2589476850750654 0.3961538461538461\n",
      "31 G 0.2465055756880413 0.1803571428571428\n",
      "32 T 0.2518888780064641 0.2973901098901099\n",
      "33 T 0.2509374431587637 0.3923076923076923\n",
      "34 A 0.2544878342264695 0.3262362637362637\n",
      "35 C 0.2366414349876173 0.1469780219780219\n",
      "36 A 0.2612947908942088 0.3225274725274725\n",
      "37 T 0.2412726840256887 0.4137362637362637\n",
      "38 G 0.2471072183123225 0.1517857142857142\n",
      "39 G 0.2514061647381455 0.1708791208791208\n",
      "40 A 0.2565865875669852 0.3107142857142857\n",
      "41 G 0.2477193547033062 0.1641483516483516\n",
      "42 C 0.2337801346000475 0.1395604395604395\n",
      "43 T 0.2489086482629318 0.3616758241758241\n",
      "44 T 0.2564151893775097 0.3505494505494505\n",
      "45 T 0.2562053140434582 0.3601648351648351\n",
      "46 A 0.255040505939472 0.3240384615384615\n",
      "47 C 0.2322795259615788 0.1460164835164835\n",
      "48 A 0.2633515691679142 0.3120879120879121\n",
      "49 T 0.251651019294539 0.3531593406593407\n",
      "50 C 0.2324754096066936 0.1513736263736263\n",
      "H0 product: 1.0060667918517397e-30\n",
      "H1 product: 3.486575872379243e-28\n",
      "llr: 11.696083704453411\n",
      "P-value via Chi-2 test: 0.000626317813942372\n"
     ]
    },
    {
     "data": {
      "text/plain": [
       "0.000626317813942372"
      ]
     },
     "execution_count": 8,
     "metadata": {},
     "output_type": "execute_result"
    }
   ],
   "source": [
    "# let's try with anoter sites without editing evidence chr11:13730199 (+)\n",
    "compute_apobec1_signature_pvalue(ref_filepath, H0_filepath, H1_filepath, \"chr11\", 13730199, \"+\", verbosity=2)"
   ]
  },
  {
   "cell_type": "code",
   "execution_count": 10,
   "id": "8ff702aa",
   "metadata": {},
   "outputs": [
    {
     "name": "stdout",
     "output_type": "stream",
     "text": [
      "0 T 0.2694134683997705 0.3568681318681319\n",
      "1 G 0.2408984063466301 0.1835164835164835\n",
      "2 A 0.2574400805921282 0.3173076923076923\n",
      "3 A 0.2522421681521176 0.3221153846153846\n",
      "4 A 0.2461697751535587 0.328021978021978\n",
      "5 C 0.2394397727749716 0.1501373626373626\n",
      "6 T 0.2655132851086454 0.3508241758241758\n",
      "7 G 0.2427313175973471 0.176510989010989\n",
      "8 A 0.2555232192077906 0.3244505494505494\n",
      "9 T 0.260318870590869 0.3494505494505494\n",
      "10 T 0.2523960767304221 0.3548076923076923\n",
      "11 C 0.2408494354353514 0.1501373626373626\n",
      "12 G 0.2460263603419568 0.1743131868131868\n",
      "13 T 0.2492199633417749 0.3652472527472527\n",
      "14 G 0.2394502665416742 0.1653846153846153\n",
      "15 G 0.2462397335982426 0.1791208791208791\n",
      "16 A 0.249583747254131 0.2943681318681319\n",
      "17 C 0.2434134124330148 0.1527472527472527\n",
      "18 G 0.2403667221670327 0.2263736263736263\n",
      "19 G 0.2402932658001147 0.2037087912087912\n",
      "20 T 0.2484399266835499 0.3380494505494505\n",
      "21 G 0.2508080200360985 0.2431318681318681\n",
      "22 A 0.2434413958108883 0.7695054945054945\n",
      "23 T 0.2729638594674763 0.3616758241758241\n",
      "24 G 0.2534139721005722 0.0881868131868131\n",
      "25 C 1.0 1.0\n",
      "26 A 0.3427019350505799 0.4\n",
      "27 A 0.2342943291684739 0.5024725274725275\n",
      "28 A 0.2459039330637601 0.3304945054945055\n",
      "29 T 0.2508954680919534 0.3120879120879121\n",
      "30 A 0.2589476850750654 0.3961538461538461\n",
      "31 A 0.2488596773516531 0.3986263736263736\n",
      "32 A 0.2597766926445691 0.4321428571428571\n",
      "33 T 0.2509374431587637 0.3923076923076923\n",
      "34 A 0.2544878342264695 0.3262362637362637\n",
      "35 A 0.2657161645982286 0.3436813186813187\n",
      "36 A 0.2612947908942088 0.3225274725274725\n",
      "37 A 0.2565621021113458 0.3004120879120879\n",
      "38 A 0.2661149277329266 0.3274725274725275\n",
      "39 C 0.2334653215989702 0.1385989010989011\n",
      "40 A 0.2565865875669852 0.3107142857142857\n",
      "41 G 0.2477193547033062 0.1641483516483516\n",
      "42 T 0.2534979222341929 0.3553571428571428\n",
      "43 A 0.2542045025254998 0.3149725274725274\n",
      "44 C 0.2321046298498691 0.1506868131868131\n",
      "45 A 0.2600075555120258 0.3228021978021978\n",
      "46 T 0.2501644023450071 0.3531593406593407\n",
      "47 C 0.2322795259615788 0.1460164835164835\n",
      "48 A 0.2633515691679142 0.3120879120879121\n",
      "49 G 0.2501154314337284 0.1739010989010989\n",
      "50 G 0.2454422073288466 0.174587912087912\n",
      "H0 product: 1.1727735489826726e-30\n",
      "H1 product: 3.6114116018393704e-29\n",
      "llr: 6.8546246323700855\n",
      "P-value via Chi-2 test: 0.00884121288179477\n"
     ]
    },
    {
     "data": {
      "text/plain": [
       "0.00884121288179477"
      ]
     },
     "execution_count": 10,
     "metadata": {},
     "output_type": "execute_result"
    }
   ],
   "source": [
    "# try with another one chr3:113005616 (-)\n",
    "compute_apobec1_signature_pvalue(ref_filepath, H0_filepath, H1_filepath, \"chr3\", 113005616, \"-\", verbosity=2)"
   ]
  },
  {
   "cell_type": "markdown",
   "id": "b32ffe02",
   "metadata": {},
   "source": [
    "It seems to work well. Let's try another editing positions well known."
   ]
  },
  {
   "cell_type": "code",
   "execution_count": 11,
   "id": "d8d4e15a",
   "metadata": {
    "scrolled": true
   },
   "outputs": [
    {
     "name": "stdout",
     "output_type": "stream",
     "text": [
      "H0 product: 7.68583685493939e-31\n",
      "H1 product: 9.547624050455146e-29\n",
      "llr: 9.644166506690038\n",
      "P-value via Chi-2 test: 0.0018995387136054277\n"
     ]
    },
    {
     "data": {
      "text/plain": [
       "0.0018995387136054277"
      ]
     },
     "execution_count": 11,
     "metadata": {},
     "output_type": "execute_result"
    }
   ],
   "source": [
    "# chr17:44678043 (-)\n",
    "compute_apobec1_signature_pvalue(ref_filepath, H0_filepath, H1_filepath, \"chr17\", 44678043, \"-\", verbosity=1)"
   ]
  },
  {
   "cell_type": "code",
   "execution_count": 12,
   "id": "06d1bacd",
   "metadata": {},
   "outputs": [
    {
     "name": "stdout",
     "output_type": "stream",
     "text": [
      "H0 product: 7.287674419221149e-31\n",
      "H1 product: 7.943605224935361e-29\n",
      "llr: 9.382705862665443\n",
      "P-value via Chi-2 test: 0.0021904199709283983\n"
     ]
    },
    {
     "data": {
      "text/plain": [
       "0.0021904199709283983"
      ]
     },
     "execution_count": 12,
     "metadata": {},
     "output_type": "execute_result"
    }
   ],
   "source": [
    "# chrX:106679225 (+)\n",
    "compute_apobec1_signature_pvalue(ref_filepath, H0_filepath, H1_filepath, \"chrX\", 106679225, \"+\", verbosity=1)"
   ]
  },
  {
   "cell_type": "code",
   "execution_count": 13,
   "id": "b15b2ec5",
   "metadata": {},
   "outputs": [
    {
     "name": "stdout",
     "output_type": "stream",
     "text": [
      "H0 product: 3.556451775004469e-31\n",
      "H1 product: 8.179183417480786e-36\n",
      "llr: -21.360193002947454\n",
      "P-value via Chi-2 test: 1.0\n"
     ]
    },
    {
     "data": {
      "text/plain": [
       "1.0"
      ]
     },
     "execution_count": 13,
     "metadata": {},
     "output_type": "execute_result"
    }
   ],
   "source": [
    "# try with non editing examples --> chr10:93496869 (+)\n",
    "compute_apobec1_signature_pvalue(ref_filepath, H0_filepath, H1_filepath, \"chr10\", 93496869, \"+\", verbosity=1)"
   ]
  },
  {
   "cell_type": "code",
   "execution_count": 15,
   "id": "39285749",
   "metadata": {},
   "outputs": [
    {
     "name": "stdout",
     "output_type": "stream",
     "text": [
      "H0 product: 1.029029414606688e-30\n",
      "H1 product: 5.312173774110681e-33\n",
      "llr: -10.532740391820564\n",
      "P-value via Chi-2 test: 1.0\n"
     ]
    },
    {
     "data": {
      "text/plain": [
       "1.0"
      ]
     },
     "execution_count": 15,
     "metadata": {},
     "output_type": "execute_result"
    }
   ],
   "source": [
    "# chr5:82275087 (-) another negative example\n",
    "compute_apobec1_signature_pvalue(ref_filepath, H0_filepath, H1_filepath, \"chr5\", 82275087, \"-\", verbosity=1)"
   ]
  },
  {
   "cell_type": "code",
   "execution_count": 18,
   "id": "b292475c",
   "metadata": {},
   "outputs": [
    {
     "name": "stdout",
     "output_type": "stream",
     "text": [
      "OPS! Wrong position chr2:13081881 (-) provided: No C central base! Base found: A\n"
     ]
    }
   ],
   "source": [
    "# let's try with a wrong position without a central C base (will rise an error message)\n",
    "# chr2:13081881 (-)\n",
    "compute_apobec1_signature_pvalue(ref_filepath, H0_filepath, H1_filepath, \"chr2\", 13081881, \"-\", verbosity=1)"
   ]
  }
 ],
 "metadata": {
  "kernelspec": {
   "display_name": "Python 3 (ipykernel)",
   "language": "python",
   "name": "python3"
  },
  "language_info": {
   "codemirror_mode": {
    "name": "ipython",
    "version": 3
   },
   "file_extension": ".py",
   "mimetype": "text/x-python",
   "name": "python",
   "nbconvert_exporter": "python",
   "pygments_lexer": "ipython3",
   "version": "3.10.0"
  }
 },
 "nbformat": 4,
 "nbformat_minor": 5
}
